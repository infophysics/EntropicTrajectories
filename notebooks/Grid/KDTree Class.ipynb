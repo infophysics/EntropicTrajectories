{
 "cells": [
  {
   "cell_type": "markdown",
   "metadata": {},
   "source": [
    "# KDTree Class\n"
   ]
  },
  {
   "cell_type": "markdown",
   "metadata": {},
   "source": []
  },
  {
   "cell_type": "code",
   "execution_count": 1,
   "metadata": {},
   "outputs": [],
   "source": [
    "# importing necessary packages\n",
    "import numpy as np\n",
    "import matplotlib.pyplot as plt\n",
    "\n",
    "# importing the Grid base class\n",
    "from etraj import KDTree"
   ]
  },
  {
   "cell_type": "markdown",
   "metadata": {},
   "source": [
    "We can see what the various methods are that are available from Grid by printing out some of its contents using \\__dir\\__,"
   ]
  },
  {
   "cell_type": "code",
   "execution_count": 2,
   "metadata": {},
   "outputs": [
    {
     "name": "stdout",
     "output_type": "stream",
     "text": [
      "#: function\n",
      "++++++++++++++++++\n",
      "1: get_N()\n",
      "2: get_current_global_k()\n",
      "3: get_current_global_radius()\n",
      "4: get_current_neighbor_distances()\n",
      "5: get_current_neighbor_indices()\n",
      "6: get_dim()\n",
      "7: get_log()\n",
      "8: get_name()\n",
      "9: get_points()\n",
      "10: query()\n",
      "11: query_distances()\n",
      "12: query_neighbors()\n",
      "13: set_N()\n",
      "14: set_current_global_k()\n",
      "15: set_current_global_radius()\n",
      "16: set_dim()\n",
      "17: set_log()\n",
      "18: set_name()\n",
      "19: set_points()\n",
      "20: setup_tree()\n"
     ]
    }
   ],
   "source": [
    "# grab the attributes of Grid\n",
    "attributes = dir(KDTree)\n",
    "attributes = [a for a in attributes if a[0] != \"_\"]\n",
    "\n",
    "# print the ones which are not built in\n",
    "print(\"#: function\")\n",
    "print(\"++++++++++++++++++\")\n",
    "for i in range(len(attributes)):\n",
    "    print(\"%s: %s()\" % (i+1,attributes[i]))"
   ]
  },
  {
   "cell_type": "code",
   "execution_count": 3,
   "metadata": {},
   "outputs": [],
   "source": [
    "N = 5\n",
    "x = np.random.uniform(0,1,N)\n",
    "y = np.random.uniform(0,1,N)\n",
    "\n",
    "xy = np.vstack((x,y)).T\n",
    "\n",
    "kdt = KDTree(xy)\n",
    "\n",
    "# print(xy)\n",
    "\n",
    "# print(kdt.get_points())\n",
    "\n",
    "# xy[0][0] = 0.0\n",
    "# print(xy)\n",
    "# kdt.set_points(xy)\n",
    "# print(kdt.get_points())"
   ]
  },
  {
   "cell_type": "code",
   "execution_count": 4,
   "metadata": {},
   "outputs": [],
   "source": [
    "kdt.setup_tree()"
   ]
  },
  {
   "cell_type": "code",
   "execution_count": 5,
   "metadata": {},
   "outputs": [],
   "source": [
    "kdt.query_neighbors(.21)"
   ]
  },
  {
   "cell_type": "code",
   "execution_count": 6,
   "metadata": {},
   "outputs": [],
   "source": [
    "neighbors = kdt.get_current_neighbor_indices()"
   ]
  },
  {
   "cell_type": "code",
   "execution_count": 7,
   "metadata": {},
   "outputs": [
    {
     "name": "stdout",
     "output_type": "stream",
     "text": [
      "[[0, 3], [1], [2, 4], [3, 0], [4, 2]]\n"
     ]
    }
   ],
   "source": [
    "print(neighbors)"
   ]
  },
  {
   "cell_type": "code",
   "execution_count": 8,
   "metadata": {},
   "outputs": [],
   "source": [
    "x,y = np.random.uniform(0,1,1)[0], np.random.uniform(0,1,1)[0]"
   ]
  },
  {
   "cell_type": "code",
   "execution_count": 9,
   "metadata": {},
   "outputs": [],
   "source": [
    "n,d = kdt.query([x,y],2)"
   ]
  },
  {
   "cell_type": "code",
   "execution_count": 10,
   "metadata": {},
   "outputs": [
    {
     "name": "stdout",
     "output_type": "stream",
     "text": [
      "[1] [0.24202250856050364]\n"
     ]
    }
   ],
   "source": [
    "print(n,d)"
   ]
  },
  {
   "cell_type": "code",
   "execution_count": 12,
   "metadata": {},
   "outputs": [],
   "source": [
    "# import the KDTree class\n",
    "from etraj import KDTree\n",
    "import numpy as np\n",
    "\n",
    "low = 0.0\n",
    "high = 1.0\n",
    "N = 10000\n",
    "data = np.random.uniform(low,high,(N,2))\n",
    "\n",
    "# instantiate the tree with the data\n",
    "kdt = KDTree(data)\n",
    "\n",
    "# Query k neighbors for each point in data\n",
    "k = 5\n",
    "kdt.query_neighbors(k)"
   ]
  },
  {
   "cell_type": "code",
   "execution_count": null,
   "metadata": {},
   "outputs": [],
   "source": []
  }
 ],
 "metadata": {
  "kernelspec": {
   "display_name": "Python 3",
   "language": "python",
   "name": "python3"
  },
  "language_info": {
   "codemirror_mode": {
    "name": "ipython",
    "version": 3
   },
   "file_extension": ".py",
   "mimetype": "text/x-python",
   "name": "python",
   "nbconvert_exporter": "python",
   "pygments_lexer": "ipython3",
   "version": "3.7.6"
  }
 },
 "nbformat": 4,
 "nbformat_minor": 4
}

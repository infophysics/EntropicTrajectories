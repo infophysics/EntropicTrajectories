{
 "cells": [
  {
   "cell_type": "markdown",
   "metadata": {},
   "source": [
    "# KDTree Class\n"
   ]
  },
  {
   "cell_type": "code",
   "execution_count": null,
   "metadata": {},
   "outputs": [],
   "source": []
  },
  {
   "cell_type": "code",
   "execution_count": 1,
   "metadata": {},
   "outputs": [],
   "source": [
    "# importing necessary packages\n",
    "import numpy as np\n",
    "import matplotlib.pyplot as plt\n",
    "\n",
    "# importing the Grid base class\n",
    "from etraj import KDTree"
   ]
  },
  {
   "cell_type": "code",
   "execution_count": 2,
   "metadata": {
    "scrolled": true
   },
   "outputs": [
    {
     "name": "stdout",
     "output_type": "stream",
     "text": [
      "Help on class KDTree in module etraj:\n",
      "\n",
      "class KDTree(pybind11_builtins.pybind11_object)\n",
      " |  Method resolution order:\n",
      " |      KDTree\n",
      " |      pybind11_builtins.pybind11_object\n",
      " |      builtins.object\n",
      " |  \n",
      " |  Methods defined here:\n",
      " |  \n",
      " |  __init__(...)\n",
      " |      __init__(*args, **kwargs)\n",
      " |      Overloaded function.\n",
      " |      \n",
      " |      1. __init__(self: etraj.KDTree) -> None\n",
      " |      \n",
      " |      2. __init__(self: etraj.KDTree, arg0: List[List[float]]) -> None\n",
      " |  \n",
      " |  get_N(...)\n",
      " |      get_N(self: etraj.KDTree) -> int\n",
      " |  \n",
      " |  get_current_global_k(...)\n",
      " |      get_current_global_k(self: etraj.KDTree) -> int\n",
      " |  \n",
      " |  get_current_global_radius(...)\n",
      " |      get_current_global_radius(self: etraj.KDTree) -> float\n",
      " |  \n",
      " |  get_current_neighbor_distances(...)\n",
      " |      get_current_neighbor_distances(*args, **kwargs)\n",
      " |      Overloaded function.\n",
      " |      \n",
      " |      1. get_current_neighbor_distances(self: etraj.KDTree) -> List[List[float]]\n",
      " |      \n",
      " |      2. get_current_neighbor_distances(self: etraj.KDTree, arg0: int) -> List[float]\n",
      " |  \n",
      " |  get_current_neighbor_indices(...)\n",
      " |      get_current_neighbor_indices(*args, **kwargs)\n",
      " |      Overloaded function.\n",
      " |      \n",
      " |      1. get_current_neighbor_indices(self: etraj.KDTree) -> List[List[int]]\n",
      " |      \n",
      " |      2. get_current_neighbor_indices(self: etraj.KDTree, arg0: int) -> List[int]\n",
      " |  \n",
      " |  get_dim(...)\n",
      " |      get_dim(self: etraj.KDTree) -> int\n",
      " |  \n",
      " |  get_log(...)\n",
      " |      get_log(self: etraj.KDTree) -> ET::Log\n",
      " |  \n",
      " |  get_name(...)\n",
      " |      get_name(self: etraj.KDTree) -> str\n",
      " |  \n",
      " |  get_points(...)\n",
      " |      get_points(self: etraj.KDTree) -> List[List[float]]\n",
      " |  \n",
      " |  query_distances(...)\n",
      " |      query_distances(self: etraj.KDTree, arg0: List[float], arg1: int) -> List[float]\n",
      " |  \n",
      " |  query_neighbors(...)\n",
      " |      query_neighbors(*args, **kwargs)\n",
      " |      Overloaded function.\n",
      " |      \n",
      " |      1. query_neighbors(self: etraj.KDTree, arg0: int) -> None\n",
      " |      \n",
      " |      2. query_neighbors(self: etraj.KDTree, arg0: float) -> None\n",
      " |      \n",
      " |      3. query_neighbors(self: etraj.KDTree, arg0: List[float], arg1: int) -> List[int]\n",
      " |  \n",
      " |  set_N(...)\n",
      " |      set_N(self: etraj.KDTree, arg0: int) -> None\n",
      " |  \n",
      " |  set_current_global_k(...)\n",
      " |      set_current_global_k(self: etraj.KDTree, arg0: int) -> None\n",
      " |  \n",
      " |  set_current_global_radius(...)\n",
      " |      set_current_global_radius(self: etraj.KDTree, arg0: float) -> None\n",
      " |  \n",
      " |  set_dim(...)\n",
      " |      set_dim(self: etraj.KDTree, arg0: int) -> None\n",
      " |  \n",
      " |  set_log(...)\n",
      " |      set_log(self: etraj.KDTree, arg0: ET::Log) -> None\n",
      " |  \n",
      " |  set_name(...)\n",
      " |      set_name(self: etraj.KDTree, arg0: str) -> None\n",
      " |  \n",
      " |  set_points(...)\n",
      " |      set_points(self: etraj.KDTree, arg0: List[List[float]]) -> None\n",
      " |  \n",
      " |  setup_tree(...)\n",
      " |      setup_tree(self: etraj.KDTree) -> None\n",
      " |  \n",
      " |  ----------------------------------------------------------------------\n",
      " |  Static methods inherited from pybind11_builtins.pybind11_object:\n",
      " |  \n",
      " |  __new__(*args, **kwargs) from pybind11_builtins.pybind11_type\n",
      " |      Create and return a new object.  See help(type) for accurate signature.\n",
      "\n"
     ]
    }
   ],
   "source": [
    "# call help to get the docstring for Grid\n",
    "help(KDTree)"
   ]
  },
  {
   "cell_type": "markdown",
   "metadata": {},
   "source": [
    "We can see what the various methods are that are available from Grid by printing out some of its contents using \\__dir\\__,"
   ]
  },
  {
   "cell_type": "code",
   "execution_count": 3,
   "metadata": {},
   "outputs": [
    {
     "name": "stdout",
     "output_type": "stream",
     "text": [
      "#: function\n",
      "++++++++++++++++++\n",
      "1: get_N()\n",
      "2: get_current_global_k()\n",
      "3: get_current_global_radius()\n",
      "4: get_current_neighbor_distances()\n",
      "5: get_current_neighbor_indices()\n",
      "6: get_dim()\n",
      "7: get_log()\n",
      "8: get_name()\n",
      "9: get_points()\n",
      "10: query_distances()\n",
      "11: query_neighbors()\n",
      "12: set_N()\n",
      "13: set_current_global_k()\n",
      "14: set_current_global_radius()\n",
      "15: set_dim()\n",
      "16: set_log()\n",
      "17: set_name()\n",
      "18: set_points()\n",
      "19: setup_tree()\n"
     ]
    }
   ],
   "source": [
    "# grab the attributes of Grid\n",
    "attributes = dir(KDTree)\n",
    "attributes = [a for a in attributes if a[0] != \"_\"]\n",
    "\n",
    "# print the ones which are not built in\n",
    "print(\"#: function\")\n",
    "print(\"++++++++++++++++++\")\n",
    "for i in range(len(attributes)):\n",
    "    print(\"%s: %s()\" % (i+1,attributes[i]))"
   ]
  },
  {
   "cell_type": "code",
   "execution_count": 4,
   "metadata": {},
   "outputs": [],
   "source": [
    "N = 5\n",
    "x = np.random.uniform(0,1,N)\n",
    "y = np.random.uniform(0,1,N)\n",
    "\n",
    "xy = np.vstack((x,y)).T\n",
    "\n",
    "kdt = KDTree(xy)\n",
    "\n",
    "print(xy)\n",
    "\n",
    "print(kdt.get_points())\n",
    "\n",
    "xy[0][0] = 0.0\n",
    "print(xy)\n",
    "kdt.set_points(xy)\n",
    "print(kdt.get_points())"
   ]
  },
  {
   "cell_type": "code",
   "execution_count": 5,
   "metadata": {},
   "outputs": [],
   "source": [
    "kdt.setup_tree()"
   ]
  },
  {
   "cell_type": "code",
   "execution_count": null,
   "metadata": {},
   "outputs": [],
   "source": [
    "kdt.query_neighbors(4)"
   ]
  },
  {
   "cell_type": "code",
   "execution_count": 13,
   "metadata": {},
   "outputs": [],
   "source": [
    "neighbors = kdt.get_current_neighbor_indices()"
   ]
  },
  {
   "cell_type": "code",
   "execution_count": 14,
   "metadata": {},
   "outputs": [
    {
     "name": "stdout",
     "output_type": "stream",
     "text": [
      "[[0, 3, 4, 2], [1, 4, 2, 3], [2, 4, 1, 3], [3, 4, 0, 2], [4, 1, 3, 2]]\n"
     ]
    }
   ],
   "source": [
    "print(neighbors)"
   ]
  },
  {
   "cell_type": "code",
   "execution_count": null,
   "metadata": {},
   "outputs": [],
   "source": []
  }
 ],
 "metadata": {
  "kernelspec": {
   "display_name": "Python 3",
   "language": "python",
   "name": "python3"
  },
  "language_info": {
   "codemirror_mode": {
    "name": "ipython",
    "version": 3
   },
   "file_extension": ".py",
   "mimetype": "text/x-python",
   "name": "python",
   "nbconvert_exporter": "python",
   "pygments_lexer": "ipython3",
   "version": "3.7.6"
  }
 },
 "nbformat": 4,
 "nbformat_minor": 4
}

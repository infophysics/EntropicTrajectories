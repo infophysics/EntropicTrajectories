{
 "cells": [
  {
   "cell_type": "markdown",
   "metadata": {},
   "source": [
    "# Grid Classes"
   ]
  },
  {
   "cell_type": "markdown",
   "metadata": {},
   "source": [
    "This notebook will go over the various types of grids, such as structured or unstructured grids, that one can create and manipulate through their respective classes.  A generic grid object serves as a super class for the more specific examples and contains little structure.  It can be imported into the notebook by calling,"
   ]
  },
  {
   "cell_type": "code",
   "execution_count": 1,
   "metadata": {},
   "outputs": [],
   "source": [
    "# importing necessary packages\n",
    "import numpy as np\n",
    "import matplotlib.pyplot as plt\n",
    "\n",
    "# importing the Grid base class\n",
    "from etraj import Grid, UGrid"
   ]
  },
  {
   "cell_type": "markdown",
   "metadata": {},
   "source": [
    "We can see what the various methods are that are available from Grid by printing out some of its contents using \\__dir\\__,"
   ]
  },
  {
   "cell_type": "code",
   "execution_count": 2,
   "metadata": {
    "scrolled": false
   },
   "outputs": [
    {
     "name": "stdout",
     "output_type": "stream",
     "text": [
      "#: function\n",
      "++++++++++++++++++\n",
      "1: N()\n",
      "2: coords()\n",
      "3: dim()\n",
      "4: get_N()\n",
      "5: get_coords()\n",
      "6: get_dim()\n",
      "7: get_grid()\n",
      "8: get_log()\n",
      "9: get_name()\n",
      "10: get_point()\n",
      "11: get_type()\n",
      "12: grid()\n",
      "13: log()\n",
      "14: log_output()\n",
      "15: move_grid()\n",
      "16: name()\n",
      "17: proj()\n",
      "18: set_N()\n",
      "19: set_coords()\n",
      "20: set_dim()\n",
      "21: set_grid()\n",
      "22: set_log()\n",
      "23: set_name()\n",
      "24: type()\n"
     ]
    }
   ],
   "source": [
    "# grab the attributes of Grid\n",
    "attributes = dir(Grid)\n",
    "attributes = [a for a in attributes if a[0] != \"_\"]\n",
    "\n",
    "# print the ones which are not built in\n",
    "print(\"#: function\")\n",
    "print(\"++++++++++++++++++\")\n",
    "for i in range(len(attributes)):\n",
    "    print(\"%s: %s()\" % (i+1,attributes[i]))"
   ]
  },
  {
   "cell_type": "markdown",
   "metadata": {},
   "source": [
    "## Attributes"
   ]
  },
  {
   "cell_type": "markdown",
   "metadata": {},
   "source": [
    "There are only a few basic attributes that belong to all derived classes from Grid.  These include a *std::string* called **name**, a *size_t* called **dim**, a *size_t* called **N** and a *std::shared_ptr* of a *Log* instance called **log**.  Each of these attributes has respect setters and getters."
   ]
  },
  {
   "cell_type": "code",
   "execution_count": 3,
   "metadata": {},
   "outputs": [
    {
     "name": "stdout",
     "output_type": "stream",
     "text": [
      "default\n"
     ]
    }
   ],
   "source": [
    "# create a Grid object using the default\n",
    "# constructor sets name = \"default\"\n",
    "g = Grid()\n",
    "print(g.get_name())"
   ]
  },
  {
   "cell_type": "code",
   "execution_count": 4,
   "metadata": {},
   "outputs": [
    {
     "name": "stdout",
     "output_type": "stream",
     "text": [
      "myName\n"
     ]
    }
   ],
   "source": [
    "# we can change the name of a Grid using set_name()\n",
    "g.set_name(\"myName\")\n",
    "print(g.get_name())"
   ]
  },
  {
   "cell_type": "code",
   "execution_count": 5,
   "metadata": {},
   "outputs": [
    {
     "name": "stdout",
     "output_type": "stream",
     "text": [
      "0\n"
     ]
    }
   ],
   "source": [
    "# the default constructor also sets the dimension\n",
    "# of the grid to zero\n",
    "print(g.get_dim())"
   ]
  },
  {
   "cell_type": "code",
   "execution_count": 6,
   "metadata": {},
   "outputs": [
    {
     "name": "stdout",
     "output_type": "stream",
     "text": [
      "10\n"
     ]
    }
   ],
   "source": [
    "# this can easily be changed with set_dim()\n",
    "g.set_dim(10)\n",
    "print(g.get_dim())"
   ]
  },
  {
   "cell_type": "code",
   "execution_count": 7,
   "metadata": {},
   "outputs": [
    {
     "name": "stdout",
     "output_type": "stream",
     "text": [
      "0\n"
     ]
    }
   ],
   "source": [
    "# likewise, the default constructor sets the number\n",
    "# of elements to zero\n",
    "print(g.get_N())"
   ]
  },
  {
   "cell_type": "code",
   "execution_count": 8,
   "metadata": {},
   "outputs": [
    {
     "name": "stdout",
     "output_type": "stream",
     "text": [
      "100\n"
     ]
    }
   ],
   "source": [
    "# we can also change this using set_N()\n",
    "g.set_N(100)\n",
    "print(g.get_N())"
   ]
  },
  {
   "cell_type": "code",
   "execution_count": 9,
   "metadata": {},
   "outputs": [
    {
     "name": "stdout",
     "output_type": "stream",
     "text": [
      "myName\n",
      "myNewName\n",
      "10\n",
      "150\n",
      "100\n",
      "1\n"
     ]
    }
   ],
   "source": [
    "# Each of these afformentioned attributes are also \n",
    "# overloaded as 'properties' of the associated python bindings.  \n",
    "# Thus, we can also simply use them as if they were attributes of\n",
    "# a pure python object.\n",
    "print(g.name)\n",
    "g.name = \"myNewName\"\n",
    "print(g.name)\n",
    "\n",
    "print(g.dim)\n",
    "g.dim = 150\n",
    "print(g.dim)\n",
    "\n",
    "print(g.N)\n",
    "g.N = 1\n",
    "print(g.N)"
   ]
  },
  {
   "cell_type": "code",
   "execution_count": 10,
   "metadata": {},
   "outputs": [
    {
     "name": "stdout",
     "output_type": "stream",
     "text": [
      "100\n"
     ]
    }
   ],
   "source": [
    "# Various built in objects are also overloaded for\n",
    "# Grid.  \n",
    "g = Grid(N=100,dim=5)\n",
    "print(len(g))"
   ]
  },
  {
   "cell_type": "code",
   "execution_count": 11,
   "metadata": {},
   "outputs": [
    {
     "name": "stdout",
     "output_type": "stream",
     "text": [
      "GridType.default\n"
     ]
    }
   ],
   "source": [
    "print(g.type)"
   ]
  },
  {
   "cell_type": "markdown",
   "metadata": {},
   "source": [
    "## Constructors"
   ]
  },
  {
   "cell_type": "code",
   "execution_count": 12,
   "metadata": {
    "scrolled": true
   },
   "outputs": [
    {
     "name": "stdout",
     "output_type": "stream",
     "text": [
      "++++++++++++++++++++++++++++++++++++++++++++++++++++\n",
      "<etraj.Grid<double> ref at 0x559cff736da0>\n",
      "---------------------------------------------------\n",
      "<ET::Grid<double> object at 0x559cff736da0>\n",
      "---------------------------------------------------\n",
      "   name: 'default grid'\n",
      "    dim: 5\n",
      "      N: 10\n",
      "---------------------------------------------------\n",
      " Logger at: 0x559cfefc7d80,\n",
      "    ref at: 0x7ffed0514440\n",
      "++++++++++++++++++++++++++++++++++++++++++++++++++++\n"
     ]
    }
   ],
   "source": [
    "# the default constructor creates a new logger\n",
    "# which is assigned to the base class\n",
    "g = Grid(dim=5,name=\"default grid\",N=10)\n",
    "print(g)"
   ]
  },
  {
   "cell_type": "code",
   "execution_count": 20,
   "metadata": {},
   "outputs": [
    {
     "name": "stdout",
     "output_type": "stream",
     "text": [
      "[0.88236576 0.4897246 ]\n"
     ]
    }
   ],
   "source": [
    "# we can pass in numpy arrays as grids to the constructor\n",
    "N = 100\n",
    "x = np.random.uniform([0,0],[1,1],size=(N,2))\n",
    "\n",
    "g = Grid(x,move_grid=True)\n",
    "print(x[0])"
   ]
  },
  {
   "cell_type": "markdown",
   "metadata": {},
   "source": [
    "## Projections"
   ]
  },
  {
   "cell_type": "markdown",
   "metadata": {},
   "source": [
    "We can project a grid along an axis by calling the *proj* method."
   ]
  },
  {
   "cell_type": "code",
   "execution_count": 14,
   "metadata": {},
   "outputs": [],
   "source": [
    "x = g.proj(0)"
   ]
  },
  {
   "cell_type": "markdown",
   "metadata": {},
   "source": [
    "# Structured Grids"
   ]
  },
  {
   "cell_type": "code",
   "execution_count": null,
   "metadata": {},
   "outputs": [],
   "source": []
  },
  {
   "cell_type": "markdown",
   "metadata": {},
   "source": [
    "# Unstructured Grids"
   ]
  },
  {
   "cell_type": "markdown",
   "metadata": {},
   "source": [
    "The other type of derived class is an *unstructured grid*, which is a grid where the points are not arranged in any particular pattern.  These types of grids are crucial for solving systems in which the number of dimensions is large.  "
   ]
  },
  {
   "cell_type": "code",
   "execution_count": 15,
   "metadata": {},
   "outputs": [
    {
     "name": "stdout",
     "output_type": "stream",
     "text": [
      "Help on class UGrid in module etraj:\n",
      "\n",
      "class UGrid(Grid)\n",
      " |  Method resolution order:\n",
      " |      UGrid\n",
      " |      Grid\n",
      " |      pybind11_builtins.pybind11_object\n",
      " |      builtins.object\n",
      " |  \n",
      " |  Methods defined here:\n",
      " |  \n",
      " |  __init__(...)\n",
      " |      __init__(*args, **kwargs)\n",
      " |      Overloaded function.\n",
      " |      \n",
      " |      1. __init__(self: etraj.UGrid) -> None\n",
      " |      \n",
      " |      2. __init__(self: etraj.UGrid, log: ET::Log) -> None\n",
      " |      \n",
      " |      \n",
      " |                Constructor with a shared Log instance.\n",
      " |              \n",
      " |      \n",
      " |      3. __init__(self: etraj.UGrid, name: str) -> None\n",
      " |      \n",
      " |      4. __init__(self: etraj.UGrid, name: str, log: ET::Log) -> None\n",
      " |      \n",
      " |      5. __init__(self: etraj.UGrid, dim: int) -> None\n",
      " |      \n",
      " |      6. __init__(self: etraj.UGrid, name: str, dim: int) -> None\n",
      " |      \n",
      " |      7. __init__(self: etraj.UGrid, dim: int, log: ET::Log) -> None\n",
      " |      \n",
      " |      8. __init__(self: etraj.UGrid, name: str, dim: int, log: ET::Log) -> None\n",
      " |      \n",
      " |      9. __init__(self: etraj.UGrid, dim: int, N: int) -> None\n",
      " |      \n",
      " |      10. __init__(self: etraj.UGrid, dim: int, N: int, log: ET::Log) -> None\n",
      " |      \n",
      " |      11. __init__(self: etraj.UGrid, name: str, dim: int, N: int) -> None\n",
      " |      \n",
      " |      12. __init__(self: etraj.UGrid, name: str, dim: int, N: int, log: ET::Log) -> None\n",
      " |      \n",
      " |      13. __init__(self: etraj.UGrid, grid: List[List[float]]) -> None\n",
      " |      \n",
      " |      14. __init__(self: etraj.UGrid, grid: List[List[float]], log: ET::Log) -> None\n",
      " |      \n",
      " |      15. __init__(self: etraj.UGrid, name: str, grid: List[List[float]]) -> None\n",
      " |      \n",
      " |      16. __init__(self: etraj.UGrid, name: str, grid: List[List[float]], log: ET::Log) -> None\n",
      " |  \n",
      " |  get_kdtree(...)\n",
      " |      get_kdtree(self: etraj.UGrid) -> ET::KDTree<double>\n",
      " |  \n",
      " |  ----------------------------------------------------------------------\n",
      " |  Data descriptors defined here:\n",
      " |  \n",
      " |  kdtree\n",
      " |  \n",
      " |  ----------------------------------------------------------------------\n",
      " |  Methods inherited from Grid:\n",
      " |  \n",
      " |  __add__(...)\n",
      " |      __add__(self: etraj.Grid, arg0: etraj.Grid) -> etraj.Grid\n",
      " |  \n",
      " |  __eq__(...)\n",
      " |      __eq__(self: etraj.Grid, arg0: etraj.Grid) -> bool\n",
      " |  \n",
      " |  __getitem__(...)\n",
      " |      __getitem__(*args, **kwargs)\n",
      " |      Overloaded function.\n",
      " |      \n",
      " |      1. __getitem__(self: etraj.Grid, arg0: Tuple[int, int]) -> float\n",
      " |      \n",
      " |      2. __getitem__(self: etraj.Grid, arg0: int) -> List[float]\n",
      " |  \n",
      " |  __iadd__(...)\n",
      " |      __iadd__(self: etraj.Grid, arg0: etraj.Grid) -> etraj.Grid\n",
      " |  \n",
      " |  __isub__(...)\n",
      " |      __isub__(self: etraj.Grid, arg0: etraj.Grid) -> etraj.Grid\n",
      " |  \n",
      " |  __len__(...)\n",
      " |      __len__(self: etraj.Grid) -> int\n",
      " |  \n",
      " |  __ne__(...)\n",
      " |      __ne__(self: etraj.Grid, arg0: etraj.Grid) -> bool\n",
      " |  \n",
      " |  __neg__(...)\n",
      " |      __neg__(self: etraj.Grid) -> etraj.Grid\n",
      " |  \n",
      " |  __repr__(...)\n",
      " |      __repr__(self: etraj.Grid) -> str\n",
      " |  \n",
      " |  __setitem__(...)\n",
      " |      __setitem__(self: etraj.Grid, arg0: Tuple[int, int], arg1: float) -> None\n",
      " |  \n",
      " |  __str__(...)\n",
      " |      __str__(self: etraj.Grid) -> str\n",
      " |  \n",
      " |  __sub__(...)\n",
      " |      __sub__(self: etraj.Grid, arg0: etraj.Grid) -> etraj.Grid\n",
      " |  \n",
      " |  get_N(...)\n",
      " |      get_N(self: etraj.Grid) -> int\n",
      " |  \n",
      " |  get_coords(...)\n",
      " |      get_coords(self: etraj.Grid) -> List[str]\n",
      " |  \n",
      " |  get_dim(...)\n",
      " |      get_dim(self: etraj.Grid) -> int\n",
      " |  \n",
      " |  get_grid(...)\n",
      " |      get_grid(self: etraj.Grid) -> List[List[float]]\n",
      " |  \n",
      " |  get_log(...)\n",
      " |      get_log(self: etraj.Grid) -> ET::Log\n",
      " |  \n",
      " |  get_name(...)\n",
      " |      get_name(self: etraj.Grid) -> str\n",
      " |  \n",
      " |  get_point(...)\n",
      " |      get_point(self: etraj.Grid, arg0: int) -> List[float]\n",
      " |  \n",
      " |  get_type(...)\n",
      " |      get_type(self: etraj.Grid) -> etraj.GridType\n",
      " |  \n",
      " |  log_output(...)\n",
      " |      log_output(*args, **kwargs)\n",
      " |      Overloaded function.\n",
      " |      \n",
      " |      1. log_output(self: etraj.Grid) -> None\n",
      " |      \n",
      " |      2. log_output(self: etraj.Grid, arg0: int) -> None\n",
      " |  \n",
      " |  proj(...)\n",
      " |      proj(*args, **kwargs)\n",
      " |      Overloaded function.\n",
      " |      \n",
      " |      1. proj(self: etraj.Grid, arg0: int) -> List[float]\n",
      " |      \n",
      " |      2. proj(self: etraj.Grid, arg0: List[int]) -> List[List[float]]\n",
      " |  \n",
      " |  set_N(...)\n",
      " |      set_N(self: etraj.Grid, arg0: int) -> None\n",
      " |  \n",
      " |  set_coords(...)\n",
      " |      set_coords(self: etraj.Grid, arg0: List[str]) -> None\n",
      " |  \n",
      " |  set_dim(...)\n",
      " |      set_dim(self: etraj.Grid, arg0: int) -> None\n",
      " |  \n",
      " |  set_grid(...)\n",
      " |      set_grid(self: etraj.Grid, arg0: List[List[float]]) -> None\n",
      " |  \n",
      " |  set_log(...)\n",
      " |      set_log(self: etraj.Grid, arg0: ET::Log) -> None\n",
      " |  \n",
      " |  set_name(...)\n",
      " |      set_name(self: etraj.Grid, arg0: str) -> None\n",
      " |  \n",
      " |  ----------------------------------------------------------------------\n",
      " |  Data descriptors inherited from Grid:\n",
      " |  \n",
      " |  N\n",
      " |  \n",
      " |  coords\n",
      " |  \n",
      " |  dim\n",
      " |  \n",
      " |  grid\n",
      " |  \n",
      " |  log\n",
      " |  \n",
      " |  name\n",
      " |  \n",
      " |  type\n",
      " |  \n",
      " |  ----------------------------------------------------------------------\n",
      " |  Static methods inherited from pybind11_builtins.pybind11_object:\n",
      " |  \n",
      " |  __new__(*args, **kwargs) from pybind11_builtins.pybind11_type\n",
      " |      Create and return a new object.  See help(type) for accurate signature.\n",
      "\n"
     ]
    }
   ],
   "source": [
    "help(UGrid)"
   ]
  },
  {
   "cell_type": "code",
   "execution_count": 16,
   "metadata": {},
   "outputs": [],
   "source": [
    "# create a unstructured grid object\n",
    "ug = UGrid()"
   ]
  },
  {
   "cell_type": "code",
   "execution_count": null,
   "metadata": {},
   "outputs": [],
   "source": []
  },
  {
   "cell_type": "code",
   "execution_count": null,
   "metadata": {},
   "outputs": [],
   "source": []
  }
 ],
 "metadata": {
  "kernelspec": {
   "display_name": "Python 3",
   "language": "python",
   "name": "python3"
  },
  "language_info": {
   "codemirror_mode": {
    "name": "ipython",
    "version": 3
   },
   "file_extension": ".py",
   "mimetype": "text/x-python",
   "name": "python",
   "nbconvert_exporter": "python",
   "pygments_lexer": "ipython3",
   "version": "3.7.6"
  }
 },
 "nbformat": 4,
 "nbformat_minor": 4
}

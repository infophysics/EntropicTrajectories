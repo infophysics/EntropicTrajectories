{
 "cells": [
  {
   "cell_type": "markdown",
   "metadata": {},
   "source": [
    "# Grid Classes"
   ]
  },
  {
   "cell_type": "markdown",
   "metadata": {},
   "source": [
    "This notebook will go over the various types of grids, such as structured or unstructured grids, that one can create and manipulate through their respective classes.  A generic grid object serves as a super class for the more specific examples and contains little structure.  It can be imported into the notebook by calling,"
   ]
  },
  {
   "cell_type": "code",
   "execution_count": 1,
   "metadata": {},
   "outputs": [],
   "source": [
    "# importing the Grid base class\n",
    "from etraj.etraj import Grid, UGrid"
   ]
  },
  {
   "cell_type": "code",
   "execution_count": 2,
   "metadata": {},
   "outputs": [
    {
     "name": "stdout",
     "output_type": "stream",
     "text": [
      "Help on class Grid in module etraj.etraj:\n",
      "\n",
      "class Grid(pybind11_builtins.pybind11_object)\n",
      " |  Method resolution order:\n",
      " |      Grid\n",
      " |      pybind11_builtins.pybind11_object\n",
      " |      builtins.object\n",
      " |  \n",
      " |  Methods defined here:\n",
      " |  \n",
      " |  __init__(...)\n",
      " |      __init__(*args, **kwargs)\n",
      " |      Overloaded function.\n",
      " |      \n",
      " |      1. __init__(self: etraj.etraj.Grid) -> None\n",
      " |      \n",
      " |      2. __init__(self: etraj.etraj.Grid, log: ET::Log) -> None\n",
      " |      \n",
      " |      \n",
      " |                 Constructor with a shared Log instance.\n",
      " |               \n",
      " |      \n",
      " |      3. __init__(self: etraj.etraj.Grid, name: str) -> None\n",
      " |      \n",
      " |      4. __init__(self: etraj.etraj.Grid, name: str, log: ET::Log) -> None\n",
      " |      \n",
      " |      5. __init__(self: etraj.etraj.Grid, dim: int) -> None\n",
      " |      \n",
      " |      6. __init__(self: etraj.etraj.Grid, name: str, dim: int) -> None\n",
      " |      \n",
      " |      7. __init__(self: etraj.etraj.Grid, dim: int, log: ET::Log) -> None\n",
      " |      \n",
      " |      8. __init__(self: etraj.etraj.Grid, name: str, dim: int, log: ET::Log) -> None\n",
      " |      \n",
      " |      9. __init__(self: etraj.etraj.Grid, dim: int, N: int) -> None\n",
      " |      \n",
      " |      10. __init__(self: etraj.etraj.Grid, dim: int, N: int, log: ET::Log) -> None\n",
      " |      \n",
      " |      11. __init__(self: etraj.etraj.Grid, name: str, dim: int, N: int) -> None\n",
      " |      \n",
      " |      12. __init__(self: etraj.etraj.Grid, name: str, dim: int, N: int, log: ET::Log) -> None\n",
      " |  \n",
      " |  __len__(...)\n",
      " |      __len__(self: etraj.etraj.Grid) -> int\n",
      " |  \n",
      " |  __repr__(...)\n",
      " |      __repr__(self: etraj.etraj.Grid) -> str\n",
      " |  \n",
      " |  __str__(...)\n",
      " |      __str__(self: etraj.etraj.Grid) -> str\n",
      " |  \n",
      " |  get_N(...)\n",
      " |      get_N(self: etraj.etraj.Grid) -> int\n",
      " |  \n",
      " |  get_dim(...)\n",
      " |      get_dim(self: etraj.etraj.Grid) -> int\n",
      " |  \n",
      " |  get_log(...)\n",
      " |      get_log(self: etraj.etraj.Grid) -> ET::Log\n",
      " |  \n",
      " |  get_name(...)\n",
      " |      get_name(self: etraj.etraj.Grid) -> str\n",
      " |  \n",
      " |  set_N(...)\n",
      " |      set_N(self: etraj.etraj.Grid, arg0: int) -> None\n",
      " |  \n",
      " |  set_dim(...)\n",
      " |      set_dim(self: etraj.etraj.Grid, arg0: int) -> None\n",
      " |  \n",
      " |  set_log(...)\n",
      " |      set_log(self: etraj.etraj.Grid, arg0: ET::Log) -> None\n",
      " |  \n",
      " |  set_name(...)\n",
      " |      set_name(self: etraj.etraj.Grid, arg0: str) -> None\n",
      " |  \n",
      " |  ----------------------------------------------------------------------\n",
      " |  Data descriptors defined here:\n",
      " |  \n",
      " |  N\n",
      " |  \n",
      " |  dim\n",
      " |  \n",
      " |  name\n",
      " |  \n",
      " |  ----------------------------------------------------------------------\n",
      " |  Static methods inherited from pybind11_builtins.pybind11_object:\n",
      " |  \n",
      " |  __new__(*args, **kwargs) from pybind11_builtins.pybind11_type\n",
      " |      Create and return a new object.  See help(type) for accurate signature.\n",
      "\n"
     ]
    }
   ],
   "source": [
    "# call help to get the docstring for Grid\n",
    "help(Grid)"
   ]
  },
  {
   "cell_type": "markdown",
   "metadata": {},
   "source": [
    "We can see what the various methods are that are available from Grid by printing out some of its contents using \\__dir\\__,"
   ]
  },
  {
   "cell_type": "code",
   "execution_count": 3,
   "metadata": {
    "scrolled": true
   },
   "outputs": [
    {
     "name": "stdout",
     "output_type": "stream",
     "text": [
      "#: function\n",
      "++++++++++++++++++\n",
      "1: N()\n",
      "2: dim()\n",
      "3: get_N()\n",
      "4: get_dim()\n",
      "5: get_log()\n",
      "6: get_name()\n",
      "7: name()\n",
      "8: set_N()\n",
      "9: set_dim()\n",
      "10: set_log()\n",
      "11: set_name()\n"
     ]
    }
   ],
   "source": [
    "# grab the attributes of Grid\n",
    "attributes = dir(Grid)\n",
    "attributes = [a for a in attributes if a[0] != \"_\"]\n",
    "\n",
    "# print the ones which are not built in\n",
    "print(\"#: function\")\n",
    "print(\"++++++++++++++++++\")\n",
    "for i in range(len(attributes)):\n",
    "    print(\"%s: %s()\" % (i+1,attributes[i]))"
   ]
  },
  {
   "cell_type": "code",
   "execution_count": null,
   "metadata": {},
   "outputs": [],
   "source": []
  },
  {
   "cell_type": "markdown",
   "metadata": {},
   "source": [
    "## Attributes"
   ]
  },
  {
   "cell_type": "markdown",
   "metadata": {},
   "source": [
    "There are only a few basic attributes that belong to all derived classes from Grid.  These include a *std::string* called **name**, a *size_t* called **dim**, a *size_t* called **N** and a *std::shared_ptr* of a *Log* instance called **log**.  Each of these attributes has respect setters and getters."
   ]
  },
  {
   "cell_type": "code",
   "execution_count": 4,
   "metadata": {},
   "outputs": [
    {
     "name": "stdout",
     "output_type": "stream",
     "text": [
      "default\n"
     ]
    }
   ],
   "source": [
    "# create a Grid object using the default\n",
    "# constructor sets name = \"default\"\n",
    "g = Grid()\n",
    "print(g.get_name())"
   ]
  },
  {
   "cell_type": "code",
   "execution_count": 5,
   "metadata": {},
   "outputs": [
    {
     "name": "stdout",
     "output_type": "stream",
     "text": [
      "myName\n"
     ]
    }
   ],
   "source": [
    "# we can change the name of a Grid using set_name()\n",
    "g.set_name(\"myName\")\n",
    "print(g.get_name())"
   ]
  },
  {
   "cell_type": "code",
   "execution_count": 6,
   "metadata": {},
   "outputs": [
    {
     "name": "stdout",
     "output_type": "stream",
     "text": [
      "0\n"
     ]
    }
   ],
   "source": [
    "# the default constructor also sets the dimension\n",
    "# of the grid to zero\n",
    "print(g.get_dim())"
   ]
  },
  {
   "cell_type": "code",
   "execution_count": 7,
   "metadata": {},
   "outputs": [
    {
     "name": "stdout",
     "output_type": "stream",
     "text": [
      "10\n"
     ]
    }
   ],
   "source": [
    "# this can easily be changed with set_dim()\n",
    "g.set_dim(10)\n",
    "print(g.get_dim())"
   ]
  },
  {
   "cell_type": "code",
   "execution_count": 8,
   "metadata": {},
   "outputs": [
    {
     "name": "stdout",
     "output_type": "stream",
     "text": [
      "0\n"
     ]
    }
   ],
   "source": [
    "# likewise, the default constructor sets the number\n",
    "# of elements to zero\n",
    "print(g.get_N())"
   ]
  },
  {
   "cell_type": "code",
   "execution_count": 9,
   "metadata": {},
   "outputs": [
    {
     "name": "stdout",
     "output_type": "stream",
     "text": [
      "100\n"
     ]
    }
   ],
   "source": [
    "# we can also change this using set_N()\n",
    "g.set_N(100)\n",
    "print(g.get_N())"
   ]
  },
  {
   "cell_type": "code",
   "execution_count": 10,
   "metadata": {},
   "outputs": [
    {
     "name": "stdout",
     "output_type": "stream",
     "text": [
      "myName\n",
      "myNewName\n",
      "10\n",
      "150\n",
      "100\n",
      "1\n"
     ]
    }
   ],
   "source": [
    "# Each of these afformentioned attributes are also \n",
    "# overloaded as 'properties' of the associated python bindings.  \n",
    "# Thus, we can also simply use them as if they were attributes of\n",
    "# a pure python object.\n",
    "print(g.name)\n",
    "g.name = \"myNewName\"\n",
    "print(g.name)\n",
    "\n",
    "print(g.dim)\n",
    "g.dim = 150\n",
    "print(g.dim)\n",
    "\n",
    "print(g.N)\n",
    "g.N = 1\n",
    "print(g.N)"
   ]
  },
  {
   "cell_type": "code",
   "execution_count": 11,
   "metadata": {},
   "outputs": [
    {
     "name": "stdout",
     "output_type": "stream",
     "text": [
      "100\n"
     ]
    }
   ],
   "source": [
    "# Various built in objects are also overloaded for\n",
    "# Grid.  \n",
    "g = Grid(N=100,dim=5)\n",
    "print(len(g))"
   ]
  },
  {
   "cell_type": "markdown",
   "metadata": {},
   "source": [
    "## Constructors"
   ]
  },
  {
   "cell_type": "code",
   "execution_count": 12,
   "metadata": {},
   "outputs": [
    {
     "name": "stdout",
     "output_type": "stream",
     "text": [
      "++++++++++++++++++++++++++++++++++++++++++++++++++++\n",
      "<etraj.Grid<double> ref at 0x55a321209150>\n",
      "---------------------------------------------------\n",
      "<ET::Grid<double> object at 0x55a321209150>\n",
      "---------------------------------------------------\n",
      "   name: 'default grid'\n",
      "    dim: 5\n",
      "      N: 10\n",
      "---------------------------------------------------\n",
      " Logger at: 0x55a321210aa0,\n",
      "    ref at: 0x7ffe2f592ab0\n",
      "++++++++++++++++++++++++++++++++++++++++++++++++++++\n"
     ]
    }
   ],
   "source": [
    "# the default constructor creates a new logger\n",
    "# which is assigned to the base class\n",
    "g = Grid(dim=5,name=\"default grid\",N=10)\n",
    "print(g)"
   ]
  },
  {
   "cell_type": "markdown",
   "metadata": {},
   "source": [
    "# Structured Grids"
   ]
  },
  {
   "cell_type": "code",
   "execution_count": null,
   "metadata": {},
   "outputs": [],
   "source": []
  },
  {
   "cell_type": "markdown",
   "metadata": {},
   "source": [
    "# Unstructured Grids"
   ]
  },
  {
   "cell_type": "markdown",
   "metadata": {},
   "source": [
    "The other type of derived class is an *unstructured grid*, which is a grid where the points are not arranged in any particular pattern.  These types of grids are crucial for solving systems in which the number of dimensions is large.  "
   ]
  },
  {
   "cell_type": "code",
   "execution_count": 13,
   "metadata": {},
   "outputs": [
    {
     "name": "stdout",
     "output_type": "stream",
     "text": [
      "Help on class UGrid in module etraj.etraj:\n",
      "\n",
      "class UGrid(Grid)\n",
      " |  Method resolution order:\n",
      " |      UGrid\n",
      " |      Grid\n",
      " |      pybind11_builtins.pybind11_object\n",
      " |      builtins.object\n",
      " |  \n",
      " |  Methods defined here:\n",
      " |  \n",
      " |  __getitem__(...)\n",
      " |      __getitem__(*args, **kwargs)\n",
      " |      Overloaded function.\n",
      " |      \n",
      " |      1. __getitem__(self: etraj.etraj.UGrid, arg0: Tuple[int, int]) -> float\n",
      " |      \n",
      " |      2. __getitem__(self: etraj.etraj.UGrid, arg0: int) -> List[float]\n",
      " |  \n",
      " |  __init__(...)\n",
      " |      __init__(*args, **kwargs)\n",
      " |      Overloaded function.\n",
      " |      \n",
      " |      1. __init__(self: etraj.etraj.UGrid, arg0: List[float]) -> None\n",
      " |      \n",
      " |      2. __init__(self: etraj.etraj.UGrid, arg0: List[List[float]]) -> None\n",
      " |      \n",
      " |      3. __init__(self: etraj.etraj.UGrid, arg0: List[float], arg1: ET::Log) -> None\n",
      " |      \n",
      " |      4. __init__(self: etraj.etraj.UGrid, arg0: List[List[float]], arg1: ET::Log) -> None\n",
      " |  \n",
      " |  __setitem__(...)\n",
      " |      __setitem__(*args, **kwargs)\n",
      " |      Overloaded function.\n",
      " |      \n",
      " |      1. __setitem__(self: etraj.etraj.UGrid, arg0: Tuple[int, int], arg1: float) -> None\n",
      " |      \n",
      " |      2. __setitem__(self: etraj.etraj.UGrid, arg0: int, arg1: List[float]) -> None\n",
      " |  \n",
      " |  get_distances(...)\n",
      " |      get_distances(self: etraj.etraj.UGrid) -> List[List[float]]\n",
      " |  \n",
      " |  get_distances_radius(...)\n",
      " |      get_distances_radius(self: etraj.etraj.UGrid) -> List[List[float]]\n",
      " |  \n",
      " |  get_neighbors(...)\n",
      " |      get_neighbors(*args, **kwargs)\n",
      " |      Overloaded function.\n",
      " |      \n",
      " |      1. get_neighbors(self: etraj.etraj.UGrid) -> List[List[int]]\n",
      " |      \n",
      " |      2. get_neighbors(self: etraj.etraj.UGrid, arg0: int) -> List[int]\n",
      " |  \n",
      " |  get_neighbors_radius(...)\n",
      " |      get_neighbors_radius(self: etraj.etraj.UGrid) -> List[List[int]]\n",
      " |  \n",
      " |  get_ugrid(...)\n",
      " |      get_ugrid(self: etraj.etraj.UGrid) -> List[List[float]]\n",
      " |  \n",
      " |  output(...)\n",
      " |      output(*args, **kwargs)\n",
      " |      Overloaded function.\n",
      " |      \n",
      " |      1. output(self: etraj.etraj.UGrid) -> None\n",
      " |      \n",
      " |      2. output(self: etraj.etraj.UGrid, arg0: int) -> None\n",
      " |  \n",
      " |  query_distances(...)\n",
      " |      query_distances(self: etraj.etraj.UGrid, arg0: List[float], arg1: int) -> List[int]\n",
      " |  \n",
      " |  query_neighbors(...)\n",
      " |      query_neighbors(*args, **kwargs)\n",
      " |      Overloaded function.\n",
      " |      \n",
      " |      1. query_neighbors(self: etraj.etraj.UGrid, arg0: int) -> None\n",
      " |      \n",
      " |      2. query_neighbors(self: etraj.etraj.UGrid, arg0: List[List[float]], arg1: int) -> List[List[int]]\n",
      " |      \n",
      " |      3. query_neighbors(self: etraj.etraj.UGrid, arg0: List[float], arg1: int) -> List[int]\n",
      " |      \n",
      " |      4. query_neighbors(self: etraj.etraj.UGrid, arg0: List[List[float]], arg1: int) -> List[List[int]]\n",
      " |  \n",
      " |  query_radius(...)\n",
      " |      query_radius(self: etraj.etraj.UGrid, arg0: float) -> None\n",
      " |  \n",
      " |  set_ugrid(...)\n",
      " |      set_ugrid(self: etraj.etraj.UGrid, arg0: List[List[float]]) -> None\n",
      " |  \n",
      " |  ----------------------------------------------------------------------\n",
      " |  Methods inherited from Grid:\n",
      " |  \n",
      " |  __len__(...)\n",
      " |      __len__(self: etraj.etraj.Grid) -> int\n",
      " |  \n",
      " |  __repr__(...)\n",
      " |      __repr__(self: etraj.etraj.Grid) -> str\n",
      " |  \n",
      " |  __str__(...)\n",
      " |      __str__(self: etraj.etraj.Grid) -> str\n",
      " |  \n",
      " |  get_N(...)\n",
      " |      get_N(self: etraj.etraj.Grid) -> int\n",
      " |  \n",
      " |  get_dim(...)\n",
      " |      get_dim(self: etraj.etraj.Grid) -> int\n",
      " |  \n",
      " |  get_log(...)\n",
      " |      get_log(self: etraj.etraj.Grid) -> ET::Log\n",
      " |  \n",
      " |  get_name(...)\n",
      " |      get_name(self: etraj.etraj.Grid) -> str\n",
      " |  \n",
      " |  set_N(...)\n",
      " |      set_N(self: etraj.etraj.Grid, arg0: int) -> None\n",
      " |  \n",
      " |  set_dim(...)\n",
      " |      set_dim(self: etraj.etraj.Grid, arg0: int) -> None\n",
      " |  \n",
      " |  set_log(...)\n",
      " |      set_log(self: etraj.etraj.Grid, arg0: ET::Log) -> None\n",
      " |  \n",
      " |  set_name(...)\n",
      " |      set_name(self: etraj.etraj.Grid, arg0: str) -> None\n",
      " |  \n",
      " |  ----------------------------------------------------------------------\n",
      " |  Data descriptors inherited from Grid:\n",
      " |  \n",
      " |  N\n",
      " |  \n",
      " |  dim\n",
      " |  \n",
      " |  name\n",
      " |  \n",
      " |  ----------------------------------------------------------------------\n",
      " |  Static methods inherited from pybind11_builtins.pybind11_object:\n",
      " |  \n",
      " |  __new__(*args, **kwargs) from pybind11_builtins.pybind11_type\n",
      " |      Create and return a new object.  See help(type) for accurate signature.\n",
      "\n"
     ]
    }
   ],
   "source": [
    "help(UGrid)"
   ]
  },
  {
   "cell_type": "code",
   "execution_count": 14,
   "metadata": {},
   "outputs": [
    {
     "ename": "TypeError",
     "evalue": "__init__(): incompatible constructor arguments. The following argument types are supported:\n    1. etraj.etraj.UGrid(arg0: List[float])\n    2. etraj.etraj.UGrid(arg0: List[List[float]])\n    3. etraj.etraj.UGrid(arg0: List[float], arg1: ET::Log)\n    4. etraj.etraj.UGrid(arg0: List[List[float]], arg1: ET::Log)\n\nInvoked with: ",
     "output_type": "error",
     "traceback": [
      "\u001b[0;31m---------------------------------------------------------------------------\u001b[0m",
      "\u001b[0;31mTypeError\u001b[0m                                 Traceback (most recent call last)",
      "\u001b[0;32m<ipython-input-14-d9c2733eb3b8>\u001b[0m in \u001b[0;36m<module>\u001b[0;34m\u001b[0m\n\u001b[1;32m      1\u001b[0m \u001b[0;31m# create a unstructured grid object\u001b[0m\u001b[0;34m\u001b[0m\u001b[0;34m\u001b[0m\u001b[0;34m\u001b[0m\u001b[0m\n\u001b[0;32m----> 2\u001b[0;31m \u001b[0mug\u001b[0m \u001b[0;34m=\u001b[0m \u001b[0mUGrid\u001b[0m\u001b[0;34m(\u001b[0m\u001b[0;34m)\u001b[0m\u001b[0;34m\u001b[0m\u001b[0;34m\u001b[0m\u001b[0m\n\u001b[0m",
      "\u001b[0;31mTypeError\u001b[0m: __init__(): incompatible constructor arguments. The following argument types are supported:\n    1. etraj.etraj.UGrid(arg0: List[float])\n    2. etraj.etraj.UGrid(arg0: List[List[float]])\n    3. etraj.etraj.UGrid(arg0: List[float], arg1: ET::Log)\n    4. etraj.etraj.UGrid(arg0: List[List[float]], arg1: ET::Log)\n\nInvoked with: "
     ]
    }
   ],
   "source": [
    "# create a unstructured grid object\n",
    "ug = UGrid()"
   ]
  },
  {
   "cell_type": "code",
   "execution_count": null,
   "metadata": {},
   "outputs": [],
   "source": []
  },
  {
   "cell_type": "code",
   "execution_count": null,
   "metadata": {},
   "outputs": [],
   "source": []
  }
 ],
 "metadata": {
  "kernelspec": {
   "display_name": "Python 3",
   "language": "python",
   "name": "python3"
  },
  "language_info": {
   "codemirror_mode": {
    "name": "ipython",
    "version": 3
   },
   "file_extension": ".py",
   "mimetype": "text/x-python",
   "name": "python",
   "nbconvert_exporter": "python",
   "pygments_lexer": "ipython3",
   "version": "3.7.6"
  }
 },
 "nbformat": 4,
 "nbformat_minor": 4
}

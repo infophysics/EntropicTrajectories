{
 "cells": [
  {
   "cell_type": "markdown",
   "metadata": {},
   "source": [
    "# Grid Classes"
   ]
  },
  {
   "cell_type": "markdown",
   "metadata": {},
   "source": [
    "This notebook will go over the various types of grids, such as structured or unstructured grids, that one can create and manipulate through their respective classes.  A generic grid object serves as a super class for the more specific examples and contains little structure.  It can be imported into the notebook by calling,"
   ]
  },
  {
   "cell_type": "code",
   "execution_count": 1,
   "metadata": {},
   "outputs": [],
   "source": [
    "# importing necessary packages\n",
    "import numpy as np\n",
    "import matplotlib.pyplot as plt\n",
    "\n",
    "# importing the Grid base class\n",
    "from etraj import Grid, UGrid"
   ]
  },
  {
   "cell_type": "code",
   "execution_count": 2,
   "metadata": {},
   "outputs": [
    {
     "name": "stdout",
     "output_type": "stream",
     "text": [
      "Help on class Grid in module etraj:\n",
      "\n",
      "class Grid(pybind11_builtins.pybind11_object)\n",
      " |  Method resolution order:\n",
      " |      Grid\n",
      " |      pybind11_builtins.pybind11_object\n",
      " |      builtins.object\n",
      " |  \n",
      " |  Methods defined here:\n",
      " |  \n",
      " |  __add__(...)\n",
      " |      __add__(self: etraj.Grid, arg0: etraj.Grid) -> etraj.Grid\n",
      " |  \n",
      " |  __eq__(...)\n",
      " |      __eq__(self: etraj.Grid, arg0: etraj.Grid) -> bool\n",
      " |  \n",
      " |  __getitem__(...)\n",
      " |      __getitem__(*args, **kwargs)\n",
      " |      Overloaded function.\n",
      " |      \n",
      " |      1. __getitem__(self: etraj.Grid, arg0: Tuple[int, int]) -> float\n",
      " |      \n",
      " |      2. __getitem__(self: etraj.Grid, arg0: int) -> List[float]\n",
      " |  \n",
      " |  __iadd__(...)\n",
      " |      __iadd__(self: etraj.Grid, arg0: etraj.Grid) -> etraj.Grid\n",
      " |  \n",
      " |  __init__(...)\n",
      " |      __init__(*args, **kwargs)\n",
      " |      Overloaded function.\n",
      " |      \n",
      " |      1. __init__(self: etraj.Grid) -> None\n",
      " |      \n",
      " |      2. __init__(self: etraj.Grid, log: ET::Log) -> None\n",
      " |      \n",
      " |      \n",
      " |                 Constructor with a shared Log instance.\n",
      " |               \n",
      " |      \n",
      " |      3. __init__(self: etraj.Grid, name: str) -> None\n",
      " |      \n",
      " |      4. __init__(self: etraj.Grid, name: str, log: ET::Log) -> None\n",
      " |      \n",
      " |      5. __init__(self: etraj.Grid, dim: int) -> None\n",
      " |      \n",
      " |      6. __init__(self: etraj.Grid, name: str, dim: int) -> None\n",
      " |      \n",
      " |      7. __init__(self: etraj.Grid, dim: int, log: ET::Log) -> None\n",
      " |      \n",
      " |      8. __init__(self: etraj.Grid, name: str, dim: int, log: ET::Log) -> None\n",
      " |      \n",
      " |      9. __init__(self: etraj.Grid, dim: int, N: int) -> None\n",
      " |      \n",
      " |      10. __init__(self: etraj.Grid, dim: int, N: int, log: ET::Log) -> None\n",
      " |      \n",
      " |      11. __init__(self: etraj.Grid, name: str, dim: int, N: int) -> None\n",
      " |      \n",
      " |      12. __init__(self: etraj.Grid, name: str, dim: int, N: int, log: ET::Log) -> None\n",
      " |      \n",
      " |      13. __init__(self: etraj.Grid, grid: List[List[float]]) -> None\n",
      " |      \n",
      " |      14. __init__(self: etraj.Grid, grid: List[List[float]], log: ET::Log) -> None\n",
      " |      \n",
      " |      15. __init__(self: etraj.Grid, name: str, grid: List[List[float]]) -> None\n",
      " |      \n",
      " |      16. __init__(self: etraj.Grid, name: str, grid: List[List[float]], log: ET::Log) -> None\n",
      " |  \n",
      " |  __isub__(...)\n",
      " |      __isub__(self: etraj.Grid, arg0: etraj.Grid) -> etraj.Grid\n",
      " |  \n",
      " |  __len__(...)\n",
      " |      __len__(self: etraj.Grid) -> int\n",
      " |  \n",
      " |  __ne__(...)\n",
      " |      __ne__(self: etraj.Grid, arg0: etraj.Grid) -> bool\n",
      " |  \n",
      " |  __neg__(...)\n",
      " |      __neg__(self: etraj.Grid) -> etraj.Grid\n",
      " |  \n",
      " |  __repr__(...)\n",
      " |      __repr__(self: etraj.Grid) -> str\n",
      " |  \n",
      " |  __setitem__(...)\n",
      " |      __setitem__(self: etraj.Grid, arg0: Tuple[int, int], arg1: float) -> None\n",
      " |  \n",
      " |  __str__(...)\n",
      " |      __str__(self: etraj.Grid) -> str\n",
      " |  \n",
      " |  __sub__(...)\n",
      " |      __sub__(self: etraj.Grid, arg0: etraj.Grid) -> etraj.Grid\n",
      " |  \n",
      " |  get_N(...)\n",
      " |      get_N(self: etraj.Grid) -> int\n",
      " |  \n",
      " |  get_coords(...)\n",
      " |      get_coords(self: etraj.Grid) -> List[str]\n",
      " |  \n",
      " |  get_dim(...)\n",
      " |      get_dim(self: etraj.Grid) -> int\n",
      " |  \n",
      " |  get_grid(...)\n",
      " |      get_grid(self: etraj.Grid) -> List[List[float]]\n",
      " |  \n",
      " |  get_log(...)\n",
      " |      get_log(self: etraj.Grid) -> ET::Log\n",
      " |  \n",
      " |  get_name(...)\n",
      " |      get_name(self: etraj.Grid) -> str\n",
      " |  \n",
      " |  get_point(...)\n",
      " |      get_point(self: etraj.Grid, arg0: int) -> List[float]\n",
      " |  \n",
      " |  get_type(...)\n",
      " |      get_type(self: etraj.Grid) -> etraj.GridType\n",
      " |  \n",
      " |  proj(...)\n",
      " |      proj(*args, **kwargs)\n",
      " |      Overloaded function.\n",
      " |      \n",
      " |      1. proj(self: etraj.Grid, arg0: int) -> List[float]\n",
      " |      \n",
      " |      2. proj(self: etraj.Grid, arg0: List[int]) -> List[List[float]]\n",
      " |  \n",
      " |  set_N(...)\n",
      " |      set_N(self: etraj.Grid, arg0: int) -> None\n",
      " |  \n",
      " |  set_coords(...)\n",
      " |      set_coords(self: etraj.Grid, arg0: List[str]) -> None\n",
      " |  \n",
      " |  set_dim(...)\n",
      " |      set_dim(self: etraj.Grid, arg0: int) -> None\n",
      " |  \n",
      " |  set_grid(...)\n",
      " |      set_grid(self: etraj.Grid, arg0: List[List[float]]) -> None\n",
      " |  \n",
      " |  set_log(...)\n",
      " |      set_log(self: etraj.Grid, arg0: ET::Log) -> None\n",
      " |  \n",
      " |  set_name(...)\n",
      " |      set_name(self: etraj.Grid, arg0: str) -> None\n",
      " |  \n",
      " |  ----------------------------------------------------------------------\n",
      " |  Data descriptors defined here:\n",
      " |  \n",
      " |  N\n",
      " |  \n",
      " |  coords\n",
      " |  \n",
      " |  dim\n",
      " |  \n",
      " |  grid\n",
      " |  \n",
      " |  name\n",
      " |  \n",
      " |  type\n",
      " |  \n",
      " |  ----------------------------------------------------------------------\n",
      " |  Static methods inherited from pybind11_builtins.pybind11_object:\n",
      " |  \n",
      " |  __new__(*args, **kwargs) from pybind11_builtins.pybind11_type\n",
      " |      Create and return a new object.  See help(type) for accurate signature.\n",
      "\n"
     ]
    }
   ],
   "source": [
    "# call help to get the docstring for Grid\n",
    "help(Grid)"
   ]
  },
  {
   "cell_type": "markdown",
   "metadata": {},
   "source": [
    "We can see what the various methods are that are available from Grid by printing out some of its contents using \\__dir\\__,"
   ]
  },
  {
   "cell_type": "code",
   "execution_count": 3,
   "metadata": {
    "scrolled": false
   },
   "outputs": [
    {
     "name": "stdout",
     "output_type": "stream",
     "text": [
      "#: function\n",
      "++++++++++++++++++\n",
      "1: N()\n",
      "2: coords()\n",
      "3: dim()\n",
      "4: get_N()\n",
      "5: get_coords()\n",
      "6: get_dim()\n",
      "7: get_grid()\n",
      "8: get_log()\n",
      "9: get_name()\n",
      "10: get_point()\n",
      "11: get_type()\n",
      "12: grid()\n",
      "13: name()\n",
      "14: proj()\n",
      "15: set_N()\n",
      "16: set_coords()\n",
      "17: set_dim()\n",
      "18: set_grid()\n",
      "19: set_log()\n",
      "20: set_name()\n",
      "21: type()\n"
     ]
    }
   ],
   "source": [
    "# grab the attributes of Grid\n",
    "attributes = dir(Grid)\n",
    "attributes = [a for a in attributes if a[0] != \"_\"]\n",
    "\n",
    "# print the ones which are not built in\n",
    "print(\"#: function\")\n",
    "print(\"++++++++++++++++++\")\n",
    "for i in range(len(attributes)):\n",
    "    print(\"%s: %s()\" % (i+1,attributes[i]))"
   ]
  },
  {
   "cell_type": "code",
   "execution_count": null,
   "metadata": {},
   "outputs": [],
   "source": []
  },
  {
   "cell_type": "markdown",
   "metadata": {},
   "source": [
    "## Attributes"
   ]
  },
  {
   "cell_type": "markdown",
   "metadata": {},
   "source": [
    "There are only a few basic attributes that belong to all derived classes from Grid.  These include a *std::string* called **name**, a *size_t* called **dim**, a *size_t* called **N** and a *std::shared_ptr* of a *Log* instance called **log**.  Each of these attributes has respect setters and getters."
   ]
  },
  {
   "cell_type": "code",
   "execution_count": 4,
   "metadata": {},
   "outputs": [
    {
     "name": "stdout",
     "output_type": "stream",
     "text": [
      "default\n"
     ]
    }
   ],
   "source": [
    "# create a Grid object using the default\n",
    "# constructor sets name = \"default\"\n",
    "g = Grid()\n",
    "print(g.get_name())"
   ]
  },
  {
   "cell_type": "code",
   "execution_count": 5,
   "metadata": {},
   "outputs": [
    {
     "name": "stdout",
     "output_type": "stream",
     "text": [
      "myName\n"
     ]
    }
   ],
   "source": [
    "# we can change the name of a Grid using set_name()\n",
    "g.set_name(\"myName\")\n",
    "print(g.get_name())"
   ]
  },
  {
   "cell_type": "code",
   "execution_count": 6,
   "metadata": {},
   "outputs": [
    {
     "name": "stdout",
     "output_type": "stream",
     "text": [
      "0\n"
     ]
    }
   ],
   "source": [
    "# the default constructor also sets the dimension\n",
    "# of the grid to zero\n",
    "print(g.get_dim())"
   ]
  },
  {
   "cell_type": "code",
   "execution_count": 7,
   "metadata": {},
   "outputs": [
    {
     "name": "stdout",
     "output_type": "stream",
     "text": [
      "10\n"
     ]
    }
   ],
   "source": [
    "# this can easily be changed with set_dim()\n",
    "g.set_dim(10)\n",
    "print(g.get_dim())"
   ]
  },
  {
   "cell_type": "code",
   "execution_count": 8,
   "metadata": {},
   "outputs": [
    {
     "name": "stdout",
     "output_type": "stream",
     "text": [
      "0\n"
     ]
    }
   ],
   "source": [
    "# likewise, the default constructor sets the number\n",
    "# of elements to zero\n",
    "print(g.get_N())"
   ]
  },
  {
   "cell_type": "code",
   "execution_count": 9,
   "metadata": {},
   "outputs": [
    {
     "name": "stdout",
     "output_type": "stream",
     "text": [
      "100\n"
     ]
    }
   ],
   "source": [
    "# we can also change this using set_N()\n",
    "g.set_N(100)\n",
    "print(g.get_N())"
   ]
  },
  {
   "cell_type": "code",
   "execution_count": 10,
   "metadata": {},
   "outputs": [
    {
     "name": "stdout",
     "output_type": "stream",
     "text": [
      "myName\n",
      "myNewName\n",
      "10\n",
      "150\n",
      "100\n",
      "1\n"
     ]
    }
   ],
   "source": [
    "# Each of these afformentioned attributes are also \n",
    "# overloaded as 'properties' of the associated python bindings.  \n",
    "# Thus, we can also simply use them as if they were attributes of\n",
    "# a pure python object.\n",
    "print(g.name)\n",
    "g.name = \"myNewName\"\n",
    "print(g.name)\n",
    "\n",
    "print(g.dim)\n",
    "g.dim = 150\n",
    "print(g.dim)\n",
    "\n",
    "print(g.N)\n",
    "g.N = 1\n",
    "print(g.N)"
   ]
  },
  {
   "cell_type": "code",
   "execution_count": 11,
   "metadata": {},
   "outputs": [
    {
     "name": "stdout",
     "output_type": "stream",
     "text": [
      "100\n"
     ]
    }
   ],
   "source": [
    "# Various built in objects are also overloaded for\n",
    "# Grid.  \n",
    "g = Grid(N=100,dim=5)\n",
    "print(len(g))"
   ]
  },
  {
   "cell_type": "code",
   "execution_count": 12,
   "metadata": {},
   "outputs": [
    {
     "name": "stdout",
     "output_type": "stream",
     "text": [
      "GridType.default\n"
     ]
    }
   ],
   "source": [
    "print(g.type)"
   ]
  },
  {
   "cell_type": "markdown",
   "metadata": {},
   "source": [
    "## Constructors"
   ]
  },
  {
   "cell_type": "code",
   "execution_count": 13,
   "metadata": {
    "scrolled": true
   },
   "outputs": [
    {
     "name": "stdout",
     "output_type": "stream",
     "text": [
      "++++++++++++++++++++++++++++++++++++++++++++++++++++\n",
      "<etraj.Grid<double> ref at 0x55e7f07ce620>\n",
      "---------------------------------------------------\n",
      "<ET::Grid<double> object at 0x55e7f07ce620>\n",
      "---------------------------------------------------\n",
      "   name: 'default grid'\n",
      "    dim: 5\n",
      "      N: 10\n",
      "---------------------------------------------------\n",
      " Logger at: 0x55e7f021eef0,\n",
      "    ref at: 0x7ffc2fdc2510\n",
      "++++++++++++++++++++++++++++++++++++++++++++++++++++\n"
     ]
    }
   ],
   "source": [
    "# the default constructor creates a new logger\n",
    "# which is assigned to the base class\n",
    "g = Grid(dim=5,name=\"default grid\",N=10)\n",
    "print(g)"
   ]
  },
  {
   "cell_type": "code",
   "execution_count": 18,
   "metadata": {},
   "outputs": [
    {
     "name": "stdout",
     "output_type": "stream",
     "text": [
      "[[0.3191727624013372, 0.823621159917216], [0.013749068006134624, 0.45717609199759], [0.48598086606768565, 0.31048972168415934], [0.14769092805224715, 0.5276488989962], [0.9164168710222751, 0.15041105844009983], [0.06309945252777693, 0.2788788532705754], [0.6435630226264304, 0.746180536930793], [5.039376328008771e-06, 0.17251535901800874], [0.18813485181371215, 0.5621227283525005], [0.10172022531611968, 0.8753839960149962], [0.19609996466805124, 0.0023609802427259075], [0.48706772287860745, 0.5025060751815552], [0.6075170559240145, 0.8405066701188206], [0.046562990509380175, 0.026221131510827833], [0.9494474152933783, 0.9475282604546745], [0.249619745116184, 0.04531355031331574], [0.972651956877941, 0.926799074754248], [0.10422038183504723, 0.6156800239907454], [0.36307593848955255, 0.23526822412412318], [0.9311619566697236, 0.6421448401858982], [0.0947042084397598, 0.47735933221877214], [0.7963395012313174, 0.6034914692833035], [0.3328220420228254, 0.5527253789663763], [0.3144694360621163, 0.000984453944368413], [0.6784759619263281, 0.36135405884529304], [0.39198153329657415, 0.7808224333612445], [0.35273769355342843, 0.5873197094593832], [0.27824351972642547, 0.14399307387391724], [0.4688809046183887, 0.4367474052076229], [0.7772242011104387, 0.08836912248650564], [0.6687943943657602, 0.42717425945431753], [0.8528081406699017, 0.47606981634808143], [0.2914093643898237, 0.07508632666581438], [0.2973802146229604, 0.6835551949175884], [0.6344652026444227, 0.10538028074426187], [0.792031650596614, 0.909843716077306], [0.8245176860609472, 0.789146656955145], [0.2583359497431984, 0.08774529921554253], [0.31430846848208627, 0.3378297186840734], [0.012017616157204647, 0.12840552974420238], [0.031210490967705007, 0.694713441985368], [0.9437765448664363, 0.25982480198872937], [0.5356516107721986, 0.9975875709488459], [0.18597220459212216, 0.5883255912922103], [0.036152076932935984, 0.43278337762847674], [0.7744549984884986, 0.6950229787556621], [0.9112496255350439, 0.12237061238154046], [0.2383052394445767, 0.9001114979339825], [0.07586021584031732, 0.3528442836571001], [0.8959088175314239, 0.3392708274589854], [0.10813429173391076, 0.5696078731444795], [0.4939704324973997, 0.3600743935296439], [0.36696550349681767, 0.21134050383553804], [0.9284261344767254, 0.3053131424423974], [0.8742910546376178, 0.7906169231640451], [0.9115558402132331, 0.7816708192317053], [0.31628081057623836, 0.28392002119312154], [0.24948421002487253, 0.9953298378236349], [0.9202274973170387, 0.18792673349403943], [0.32978446950597917, 0.8660909358649771], [0.40370626872541004, 0.40758853193581046], [0.5129491000195872, 0.006373527967401205], [0.12096575594589631, 0.9192969580158399], [0.9660067773200308, 0.9263453815601546], [0.5282179516146762, 0.5728685219617116], [0.8818797164547272, 0.807100944849523], [0.9916014555905982, 0.27052445046435136], [0.15109719685469714, 0.20281207912671229], [0.7270106953708304, 0.3876620288888728], [0.9899669098178127, 0.12842123203656908], [0.5477136866230438, 0.3259951937582166], [0.8830517324300945, 0.7817401036770113], [0.5687417918587893, 0.9399565367529548], [0.6399374237572899, 0.44034764233462875], [0.012560575562385323, 0.3880833909424163], [0.33662146090568945, 0.5979702367346706], [0.6236026979101956, 0.8525442061114502], [0.05935375483801586, 0.6635715004280339], [0.5362138553091695, 0.34147769354783286], [0.19625206264501138, 0.2532048948402278], [0.577804121255492, 0.5758907522890325], [0.8368164151565769, 0.4136521289464985], [0.08638594779492648, 0.7305999484221731], [0.1687875007242593, 0.057303379705511914], [0.18378963713529728, 0.3597708068987163], [0.44309159523802744, 0.12411247848274987], [0.2948324813393691, 0.689621988388942], [0.7809019935581047, 0.532170977831805], [0.054194656418294684, 0.297200785986646], [0.5483548710015905, 0.1563594692731326], [0.9400535523461453, 0.5194073886654899], [0.2574859396515673, 0.5223071606149375], [0.6333421758942495, 0.9107525167580617], [0.5409639289538077, 0.5491019683945538], [0.9863261215360909, 0.7633020409561433], [0.541763504104984, 0.90678007842439], [0.41978527707189417, 0.42673527517332166], [0.4028780935350412, 0.9960270196995445], [0.5585415424235781, 0.5538122053989066], [0.14052136676844695, 0.8419653070001576]]\n"
     ]
    }
   ],
   "source": [
    "# we can pass in numpy arrays as grids to the constructor\n",
    "N = 100\n",
    "x = np.random.uniform(0,1,N)\n",
    "y = np.random.uniform(0,1,N)\n",
    "\n",
    "xy = np.vstack((x,y)).T\n",
    "\n",
    "g = Grid(xy)"
   ]
  },
  {
   "cell_type": "markdown",
   "metadata": {},
   "source": [
    "## Projections"
   ]
  },
  {
   "cell_type": "markdown",
   "metadata": {},
   "source": [
    "We can project a grid along an axis by calling the *proj* method."
   ]
  },
  {
   "cell_type": "code",
   "execution_count": 23,
   "metadata": {},
   "outputs": [
    {
     "name": "stdout",
     "output_type": "stream",
     "text": [
      "[0.3191727624013372, 0.013749068006134624, 0.48598086606768565, 0.14769092805224715, 0.9164168710222751, 0.06309945252777693, 0.6435630226264304, 5.039376328008771e-06, 0.18813485181371215, 0.10172022531611968, 0.19609996466805124, 0.48706772287860745, 0.6075170559240145, 0.046562990509380175, 0.9494474152933783, 0.249619745116184, 0.972651956877941, 0.10422038183504723, 0.36307593848955255, 0.9311619566697236, 0.0947042084397598, 0.7963395012313174, 0.3328220420228254, 0.3144694360621163, 0.6784759619263281, 0.39198153329657415, 0.35273769355342843, 0.27824351972642547, 0.4688809046183887, 0.7772242011104387, 0.6687943943657602, 0.8528081406699017, 0.2914093643898237, 0.2973802146229604, 0.6344652026444227, 0.792031650596614, 0.8245176860609472, 0.2583359497431984, 0.31430846848208627, 0.012017616157204647, 0.031210490967705007, 0.9437765448664363, 0.5356516107721986, 0.18597220459212216, 0.036152076932935984, 0.7744549984884986, 0.9112496255350439, 0.2383052394445767, 0.07586021584031732, 0.8959088175314239, 0.10813429173391076, 0.4939704324973997, 0.36696550349681767, 0.9284261344767254, 0.8742910546376178, 0.9115558402132331, 0.31628081057623836, 0.24948421002487253, 0.9202274973170387, 0.32978446950597917, 0.40370626872541004, 0.5129491000195872, 0.12096575594589631, 0.9660067773200308, 0.5282179516146762, 0.8818797164547272, 0.9916014555905982, 0.15109719685469714, 0.7270106953708304, 0.9899669098178127, 0.5477136866230438, 0.8830517324300945, 0.5687417918587893, 0.6399374237572899, 0.012560575562385323, 0.33662146090568945, 0.6236026979101956, 0.05935375483801586, 0.5362138553091695, 0.19625206264501138, 0.577804121255492, 0.8368164151565769, 0.08638594779492648, 0.1687875007242593, 0.18378963713529728, 0.44309159523802744, 0.2948324813393691, 0.7809019935581047, 0.054194656418294684, 0.5483548710015905, 0.9400535523461453, 0.2574859396515673, 0.6333421758942495, 0.5409639289538077, 0.9863261215360909, 0.541763504104984, 0.41978527707189417, 0.4028780935350412, 0.5585415424235781, 0.14052136676844695]\n"
     ]
    }
   ],
   "source": [
    "x = g.proj(0)"
   ]
  },
  {
   "cell_type": "markdown",
   "metadata": {},
   "source": [
    "# Structured Grids"
   ]
  },
  {
   "cell_type": "code",
   "execution_count": null,
   "metadata": {},
   "outputs": [],
   "source": []
  },
  {
   "cell_type": "markdown",
   "metadata": {},
   "source": [
    "# Unstructured Grids"
   ]
  },
  {
   "cell_type": "markdown",
   "metadata": {},
   "source": [
    "The other type of derived class is an *unstructured grid*, which is a grid where the points are not arranged in any particular pattern.  These types of grids are crucial for solving systems in which the number of dimensions is large.  "
   ]
  },
  {
   "cell_type": "code",
   "execution_count": 5,
   "metadata": {},
   "outputs": [
    {
     "name": "stdout",
     "output_type": "stream",
     "text": [
      "Help on class UGrid in module etraj:\n",
      "\n",
      "class UGrid(Grid)\n",
      " |  Method resolution order:\n",
      " |      UGrid\n",
      " |      Grid\n",
      " |      pybind11_builtins.pybind11_object\n",
      " |      builtins.object\n",
      " |  \n",
      " |  Methods defined here:\n",
      " |  \n",
      " |  __getitem__(...)\n",
      " |      __getitem__(*args, **kwargs)\n",
      " |      Overloaded function.\n",
      " |      \n",
      " |      1. __getitem__(self: etraj.UGrid, arg0: Tuple[int, int]) -> float\n",
      " |      \n",
      " |      2. __getitem__(self: etraj.UGrid, arg0: int) -> List[float]\n",
      " |  \n",
      " |  __init__(...)\n",
      " |      __init__(*args, **kwargs)\n",
      " |      Overloaded function.\n",
      " |      \n",
      " |      1. __init__(self: etraj.UGrid) -> None\n",
      " |      \n",
      " |      2. __init__(self: etraj.UGrid, log: ET::Log) -> None\n",
      " |      \n",
      " |      \n",
      " |                Constructor with a shared Log instance.\n",
      " |              \n",
      " |      \n",
      " |      3. __init__(self: etraj.UGrid, name: str) -> None\n",
      " |      \n",
      " |      4. __init__(self: etraj.UGrid, name: str, log: ET::Log) -> None\n",
      " |      \n",
      " |      5. __init__(self: etraj.UGrid, dim: int) -> None\n",
      " |      \n",
      " |      6. __init__(self: etraj.UGrid, name: str, dim: int) -> None\n",
      " |      \n",
      " |      7. __init__(self: etraj.UGrid, dim: int, log: ET::Log) -> None\n",
      " |      \n",
      " |      8. __init__(self: etraj.UGrid, name: str, dim: int, log: ET::Log) -> None\n",
      " |      \n",
      " |      9. __init__(self: etraj.UGrid, dim: int, N: int) -> None\n",
      " |      \n",
      " |      10. __init__(self: etraj.UGrid, dim: int, N: int, log: ET::Log) -> None\n",
      " |      \n",
      " |      11. __init__(self: etraj.UGrid, name: str, dim: int, N: int) -> None\n",
      " |      \n",
      " |      12. __init__(self: etraj.UGrid, name: str, dim: int, N: int, log: ET::Log) -> None\n",
      " |      \n",
      " |      13. __init__(self: etraj.UGrid, arg0: List[float]) -> None\n",
      " |      \n",
      " |      14. __init__(self: etraj.UGrid, arg0: List[List[float]]) -> None\n",
      " |      \n",
      " |      15. __init__(self: etraj.UGrid, arg0: List[float], arg1: ET::Log) -> None\n",
      " |      \n",
      " |      16. __init__(self: etraj.UGrid, arg0: List[List[float]], arg1: ET::Log) -> None\n",
      " |  \n",
      " |  __setitem__(...)\n",
      " |      __setitem__(*args, **kwargs)\n",
      " |      Overloaded function.\n",
      " |      \n",
      " |      1. __setitem__(self: etraj.UGrid, arg0: Tuple[int, int], arg1: float) -> None\n",
      " |      \n",
      " |      2. __setitem__(self: etraj.UGrid, arg0: int, arg1: List[float]) -> None\n",
      " |  \n",
      " |  get_distances(...)\n",
      " |      get_distances(self: etraj.UGrid) -> List[List[float]]\n",
      " |  \n",
      " |  get_distances_radius(...)\n",
      " |      get_distances_radius(self: etraj.UGrid) -> List[List[float]]\n",
      " |  \n",
      " |  get_neighbors(...)\n",
      " |      get_neighbors(*args, **kwargs)\n",
      " |      Overloaded function.\n",
      " |      \n",
      " |      1. get_neighbors(self: etraj.UGrid) -> List[List[int]]\n",
      " |      \n",
      " |      2. get_neighbors(self: etraj.UGrid, arg0: int) -> List[int]\n",
      " |  \n",
      " |  get_neighbors_radius(...)\n",
      " |      get_neighbors_radius(self: etraj.UGrid) -> List[List[int]]\n",
      " |  \n",
      " |  get_ugrid(...)\n",
      " |      get_ugrid(self: etraj.UGrid) -> List[List[float]]\n",
      " |  \n",
      " |  output(...)\n",
      " |      output(*args, **kwargs)\n",
      " |      Overloaded function.\n",
      " |      \n",
      " |      1. output(self: etraj.UGrid) -> None\n",
      " |      \n",
      " |      2. output(self: etraj.UGrid, arg0: int) -> None\n",
      " |  \n",
      " |  query_distances(...)\n",
      " |      query_distances(self: etraj.UGrid, arg0: List[float], arg1: int) -> List[int]\n",
      " |  \n",
      " |  query_neighbors(...)\n",
      " |      query_neighbors(*args, **kwargs)\n",
      " |      Overloaded function.\n",
      " |      \n",
      " |      1. query_neighbors(self: etraj.UGrid, arg0: int) -> None\n",
      " |      \n",
      " |      2. query_neighbors(self: etraj.UGrid, arg0: List[List[float]], arg1: int) -> List[List[int]]\n",
      " |      \n",
      " |      3. query_neighbors(self: etraj.UGrid, arg0: List[float], arg1: int) -> List[int]\n",
      " |      \n",
      " |      4. query_neighbors(self: etraj.UGrid, arg0: List[List[float]], arg1: int) -> List[List[int]]\n",
      " |  \n",
      " |  query_radius(...)\n",
      " |      query_radius(self: etraj.UGrid, arg0: float) -> None\n",
      " |  \n",
      " |  set_ugrid(...)\n",
      " |      set_ugrid(self: etraj.UGrid, arg0: List[List[float]]) -> None\n",
      " |  \n",
      " |  ----------------------------------------------------------------------\n",
      " |  Methods inherited from Grid:\n",
      " |  \n",
      " |  __add__(...)\n",
      " |      __add__(self: etraj.Grid, arg0: etraj.Grid) -> etraj.Grid\n",
      " |  \n",
      " |  __eq__(...)\n",
      " |      __eq__(self: etraj.Grid, arg0: etraj.Grid) -> bool\n",
      " |  \n",
      " |  __iadd__(...)\n",
      " |      __iadd__(self: etraj.Grid, arg0: etraj.Grid) -> etraj.Grid\n",
      " |  \n",
      " |  __isub__(...)\n",
      " |      __isub__(self: etraj.Grid, arg0: etraj.Grid) -> etraj.Grid\n",
      " |  \n",
      " |  __len__(...)\n",
      " |      __len__(self: etraj.Grid) -> int\n",
      " |  \n",
      " |  __ne__(...)\n",
      " |      __ne__(self: etraj.Grid, arg0: etraj.Grid) -> bool\n",
      " |  \n",
      " |  __neg__(...)\n",
      " |      __neg__(self: etraj.Grid) -> etraj.Grid\n",
      " |  \n",
      " |  __repr__(...)\n",
      " |      __repr__(self: etraj.Grid) -> str\n",
      " |  \n",
      " |  __str__(...)\n",
      " |      __str__(self: etraj.Grid) -> str\n",
      " |  \n",
      " |  __sub__(...)\n",
      " |      __sub__(self: etraj.Grid, arg0: etraj.Grid) -> etraj.Grid\n",
      " |  \n",
      " |  get_N(...)\n",
      " |      get_N(self: etraj.Grid) -> int\n",
      " |  \n",
      " |  get_coords(...)\n",
      " |      get_coords(self: etraj.Grid) -> List[str]\n",
      " |  \n",
      " |  get_dim(...)\n",
      " |      get_dim(self: etraj.Grid) -> int\n",
      " |  \n",
      " |  get_grid(...)\n",
      " |      get_grid(self: etraj.Grid) -> List[List[float]]\n",
      " |  \n",
      " |  get_log(...)\n",
      " |      get_log(self: etraj.Grid) -> ET::Log\n",
      " |  \n",
      " |  get_name(...)\n",
      " |      get_name(self: etraj.Grid) -> str\n",
      " |  \n",
      " |  set_N(...)\n",
      " |      set_N(self: etraj.Grid, arg0: int) -> None\n",
      " |  \n",
      " |  set_coords(...)\n",
      " |      set_coords(self: etraj.Grid, arg0: List[str]) -> None\n",
      " |  \n",
      " |  set_dim(...)\n",
      " |      set_dim(self: etraj.Grid, arg0: int) -> None\n",
      " |  \n",
      " |  set_grid(...)\n",
      " |      set_grid(self: etraj.Grid, arg0: List[List[float]]) -> None\n",
      " |  \n",
      " |  set_log(...)\n",
      " |      set_log(self: etraj.Grid, arg0: ET::Log) -> None\n",
      " |  \n",
      " |  set_name(...)\n",
      " |      set_name(self: etraj.Grid, arg0: str) -> None\n",
      " |  \n",
      " |  ----------------------------------------------------------------------\n",
      " |  Data descriptors inherited from Grid:\n",
      " |  \n",
      " |  N\n",
      " |  \n",
      " |  coords\n",
      " |  \n",
      " |  dim\n",
      " |  \n",
      " |  grid\n",
      " |  \n",
      " |  name\n",
      " |  \n",
      " |  ----------------------------------------------------------------------\n",
      " |  Static methods inherited from pybind11_builtins.pybind11_object:\n",
      " |  \n",
      " |  __new__(*args, **kwargs) from pybind11_builtins.pybind11_type\n",
      " |      Create and return a new object.  See help(type) for accurate signature.\n",
      "\n"
     ]
    }
   ],
   "source": [
    "help(UGrid)"
   ]
  },
  {
   "cell_type": "code",
   "execution_count": 16,
   "metadata": {},
   "outputs": [],
   "source": [
    "# create a unstructured grid object\n",
    "ug = UGrid()"
   ]
  },
  {
   "cell_type": "code",
   "execution_count": null,
   "metadata": {},
   "outputs": [],
   "source": []
  },
  {
   "cell_type": "code",
   "execution_count": null,
   "metadata": {},
   "outputs": [],
   "source": []
  }
 ],
 "metadata": {
  "kernelspec": {
   "display_name": "Python 3",
   "language": "python",
   "name": "python3"
  },
  "language_info": {
   "codemirror_mode": {
    "name": "ipython",
    "version": 3
   },
   "file_extension": ".py",
   "mimetype": "text/x-python",
   "name": "python",
   "nbconvert_exporter": "python",
   "pygments_lexer": "ipython3",
   "version": "3.7.6"
  }
 },
 "nbformat": 4,
 "nbformat_minor": 4
}

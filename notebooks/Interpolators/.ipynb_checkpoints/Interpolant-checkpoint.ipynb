{
 "cells": [
  {
   "cell_type": "markdown",
   "metadata": {},
   "source": [
    "# Interpolant"
   ]
  },
  {
   "cell_type": "markdown",
   "metadata": {},
   "source": [
    "Here we will analyze some of the basics of the Interpolant type classes."
   ]
  },
  {
   "cell_type": "code",
   "execution_count": 1,
   "metadata": {},
   "outputs": [],
   "source": [
    "# import the required packages\n",
    "%matplotlib notebook\n",
    "import numpy as np\n",
    "import inspect\n",
    "from ipywidgets import *\n",
    "import matplotlib.pyplot as plt\n",
    "# we'll need Matrix, UGrid, and Interpolator\n",
    "from etraj import Vector, Matrix, UGrid, LocalTaylorInterpolator, ScalarField\n",
    "from etraj import Interpolant, LocalTaylorInterpolant\n",
    "import etraj"
   ]
  },
  {
   "cell_type": "markdown",
   "metadata": {},
   "source": [
    "Let's see what the different methods are that are available in the base class."
   ]
  },
  {
   "cell_type": "code",
   "execution_count": 2,
   "metadata": {},
   "outputs": [
    {
     "name": "stdout",
     "output_type": "stream",
     "text": [
      "#: function\n",
      "++++++++++++++++++\n",
      "1: dim()\n",
      "2: get_dim()\n",
      "3: get_name()\n",
      "4: get_range()\n",
      "5: get_range_max()\n",
      "6: get_range_min()\n",
      "7: get_ranges()\n",
      "8: name()\n",
      "9: ranges()\n",
      "10: set_dim()\n",
      "11: set_name()\n",
      "12: set_range()\n",
      "13: set_range_max()\n",
      "14: set_range_min()\n",
      "15: set_ranges()\n"
     ]
    }
   ],
   "source": [
    "# grab the attributes of Interpolant\n",
    "attributes = dir(Interpolant)\n",
    "attributes = [a for a in attributes if a[0] != \"_\"]\n",
    "\n",
    "# print the ones which are not built in\n",
    "print(\"#: function\")\n",
    "print(\"++++++++++++++++++\")\n",
    "for i in range(len(attributes)):\n",
    "    print(\"%s: %s()\" % (i+1,attributes[i]))"
   ]
  },
  {
   "cell_type": "code",
   "execution_count": 3,
   "metadata": {},
   "outputs": [],
   "source": [
    "inter = Interpolant()"
   ]
  },
  {
   "cell_type": "code",
   "execution_count": 4,
   "metadata": {},
   "outputs": [],
   "source": [
    "inter.set_name(\"new_name\")\n",
    "inter.set_dim(2)\n",
    "inter.set_ranges([[0,1],[0,1]])"
   ]
  },
  {
   "cell_type": "code",
   "execution_count": 5,
   "metadata": {},
   "outputs": [
    {
     "name": "stdout",
     "output_type": "stream",
     "text": [
      "1000\n"
     ]
    }
   ],
   "source": [
    "# create a random one-dimensional grid\n",
    "# between -pi and pi.\n",
    "N = 1000\n",
    "x = np.random.uniform(-np.pi,np.pi,N)\n",
    "x_grid = [[x[i]] for i in range(N)]\n",
    "\n",
    "g = UGrid(x_grid)\n",
    "# generate the function values for f(x) = cos(x)\n",
    "f = np.cos(1.5*x)\n",
    "# create a scalar field using g and f\n",
    "s = ScalarField(Grid=g,field=f,log=g.log)\n",
    "lte = LocalTaylorInterpolator(g)\n",
    "s.Interpolator = lte"
   ]
  },
  {
   "cell_type": "code",
   "execution_count": null,
   "metadata": {},
   "outputs": [],
   "source": [
    "order = 10\n",
    "point = [0.0]\n",
    "LTI = etraj.create_local_taylor_interpolant(s,[0.0],10)"
   ]
  },
  {
   "cell_type": "code",
   "execution_count": null,
   "metadata": {},
   "outputs": [],
   "source": []
  },
  {
   "cell_type": "code",
   "execution_count": null,
   "metadata": {},
   "outputs": [],
   "source": []
  }
 ],
 "metadata": {
  "kernelspec": {
   "display_name": "Python 3",
   "language": "python",
   "name": "python3"
  },
  "language_info": {
   "codemirror_mode": {
    "name": "ipython",
    "version": 3
   },
   "file_extension": ".py",
   "mimetype": "text/x-python",
   "name": "python",
   "nbconvert_exporter": "python",
   "pygments_lexer": "ipython3",
   "version": "3.7.6"
  }
 },
 "nbformat": 4,
 "nbformat_minor": 4
}

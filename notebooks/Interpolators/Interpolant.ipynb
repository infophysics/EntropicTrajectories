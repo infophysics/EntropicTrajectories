{
 "cells": [
  {
   "cell_type": "markdown",
   "metadata": {},
   "source": [
    "# Interpolant"
   ]
  },
  {
   "cell_type": "markdown",
   "metadata": {},
   "source": [
    "Here we will analyze some of the basics of the Interpolant type classes."
   ]
  },
  {
   "cell_type": "code",
   "execution_count": 8,
   "metadata": {},
   "outputs": [],
   "source": [
    "# import the required packages\n",
    "%matplotlib notebook\n",
    "import numpy as np\n",
    "import inspect\n",
    "from ipywidgets import *\n",
    "import matplotlib.pyplot as plt\n",
    "# we'll need Matrix, UGrid, and Interpolator\n",
    "from etraj import Vector, Matrix, UGrid, LocalTaylorInterpolator, ScalarField\n",
    "from etraj import Interpolant\n",
    "import etraj"
   ]
  },
  {
   "cell_type": "markdown",
   "metadata": {},
   "source": [
    "Let's see what the different methods are that are available in the base class."
   ]
  },
  {
   "cell_type": "code",
   "execution_count": 11,
   "metadata": {},
   "outputs": [
    {
     "name": "stdout",
     "output_type": "stream",
     "text": [
      "#: function\n",
      "++++++++++++++++++\n",
      "1: dim()\n",
      "2: get_dim()\n",
      "3: get_name()\n",
      "4: get_range()\n",
      "5: get_range_max()\n",
      "6: get_range_min()\n",
      "7: get_ranges()\n",
      "8: name()\n",
      "9: ranges()\n",
      "10: set_dim()\n",
      "11: set_name()\n",
      "12: set_range()\n",
      "13: set_range_max()\n",
      "14: set_range_min()\n",
      "15: set_ranges()\n",
      "str(object='') -> str\n",
      "str(bytes_or_buffer[, encoding[, errors]]) -> str\n",
      "\n",
      "Create a new string object from the given object. If encoding or\n",
      "errors is specified, then the object must expose a data buffer\n",
      "that will be decoded using the given encoding and error handler.\n",
      "Otherwise, returns the result of object.__str__() (if defined)\n",
      "or repr(object).\n",
      "encoding defaults to sys.getdefaultencoding().\n",
      "errors defaults to 'strict'.\n"
     ]
    }
   ],
   "source": [
    "# grab the attributes of Interpolant\n",
    "attributes = dir(Interpolant)\n",
    "attributes = [a for a in attributes if a[0] != \"_\"]\n",
    "\n",
    "# print the ones which are not built in\n",
    "print(\"#: function\")\n",
    "print(\"++++++++++++++++++\")\n",
    "for i in range(len(attributes)):\n",
    "    print(\"%s: %s()\" % (i+1,attributes[i]))"
   ]
  },
  {
   "cell_type": "code",
   "execution_count": null,
   "metadata": {},
   "outputs": [],
   "source": []
  }
 ],
 "metadata": {
  "kernelspec": {
   "display_name": "Python 3",
   "language": "python",
   "name": "python3"
  },
  "language_info": {
   "codemirror_mode": {
    "name": "ipython",
    "version": 3
   },
   "file_extension": ".py",
   "mimetype": "text/x-python",
   "name": "python",
   "nbconvert_exporter": "python",
   "pygments_lexer": "ipython3",
   "version": "3.7.6"
  }
 },
 "nbformat": 4,
 "nbformat_minor": 4
}

{
 "cells": [
  {
   "cell_type": "markdown",
   "metadata": {},
   "source": [
    "#  Loggers"
   ]
  },
  {
   "cell_type": "code",
   "execution_count": 1,
   "metadata": {},
   "outputs": [],
   "source": [
    "# needed packages\n",
    "import numpy as np\n",
    "import matplotlib.pyplot as plt\n",
    "\n",
    "# import various classes\n",
    "from etraj.etraj import Vector, Matrix, UGrid, Interpolator, ScalarField, DynamicalSystem"
   ]
  },
  {
   "cell_type": "code",
   "execution_count": 2,
   "metadata": {},
   "outputs": [],
   "source": [
    "# When creating one of the main classes, i.e. UGrid, Interpolator, ScalarField, etc.,\n",
    "# a logger is automatically generated from the constructor.\n",
    "g = UGrid()"
   ]
  },
  {
   "cell_type": "code",
   "execution_count": 3,
   "metadata": {},
   "outputs": [
    {
     "name": "stdout",
     "output_type": "stream",
     "text": [
      "[15:08:29] [trace] ET:UGrid:default: Unstructured Grid 'default' created at location 0x559dd677fe20\n",
      "\n"
     ]
    }
   ],
   "source": [
    "# The logger will be named \"object_default\" by default when\n",
    "# no name is given to UGrid and where \"object\" is the type of\n",
    "# object that is creating the logger. \n",
    "# The output of the logger is automatically updated in a file \n",
    "# \".log/object_default.txt\".\n",
    "\n",
    "# to get the last n lines that were issued to the logger, type the following\n",
    "g.output(1)"
   ]
  },
  {
   "cell_type": "code",
   "execution_count": 4,
   "metadata": {},
   "outputs": [],
   "source": [
    "# The logger will log error messages.  \n",
    "x = np.random.normal(0,1,100)\n",
    "x = np.vstack((x,x)).T\n",
    "g.set_ugrid(x)"
   ]
  },
  {
   "cell_type": "code",
   "execution_count": 5,
   "metadata": {
    "scrolled": true
   },
   "outputs": [
    {
     "name": "stdout",
     "output_type": "stream",
     "text": [
      "[15:08:30] [info] ET:UGrid:default: UGrid default: Setting _ugrid to array of size 100 with dimension 2\n",
      "\n"
     ]
    }
   ],
   "source": [
    "g.output(1)"
   ]
  },
  {
   "cell_type": "code",
   "execution_count": 6,
   "metadata": {},
   "outputs": [
    {
     "ename": "IndexError",
     "evalue": "Index 1000 out of bounds for array with 100 points!",
     "output_type": "error",
     "traceback": [
      "\u001b[0;31m---------------------------------------------------------------------------\u001b[0m",
      "\u001b[0;31mIndexError\u001b[0m                                Traceback (most recent call last)",
      "\u001b[0;32m<ipython-input-6-2d7e4bb126eb>\u001b[0m in \u001b[0;36m<module>\u001b[0;34m\u001b[0m\n\u001b[1;32m      1\u001b[0m \u001b[0;31m# For example, if we try to access an element that is out of bounds,\u001b[0m\u001b[0;34m\u001b[0m\u001b[0;34m\u001b[0m\u001b[0;34m\u001b[0m\u001b[0m\n\u001b[1;32m      2\u001b[0m \u001b[0mg\u001b[0m\u001b[0;34m.\u001b[0m\u001b[0mquery_neighbors\u001b[0m\u001b[0;34m(\u001b[0m\u001b[0;36m3\u001b[0m\u001b[0;34m)\u001b[0m\u001b[0;34m\u001b[0m\u001b[0;34m\u001b[0m\u001b[0m\n\u001b[0;32m----> 3\u001b[0;31m \u001b[0mneighbors\u001b[0m \u001b[0;34m=\u001b[0m \u001b[0mg\u001b[0m\u001b[0;34m.\u001b[0m\u001b[0mget_neighbors\u001b[0m\u001b[0;34m(\u001b[0m\u001b[0;36m1000\u001b[0m\u001b[0;34m)\u001b[0m\u001b[0;34m\u001b[0m\u001b[0;34m\u001b[0m\u001b[0m\n\u001b[0m",
      "\u001b[0;31mIndexError\u001b[0m: Index 1000 out of bounds for array with 100 points!"
     ]
    }
   ],
   "source": [
    "# For example, if we try to access an element that is out of bounds,\n",
    "g.query_neighbors(3)\n",
    "neighbors = g.get_neighbors(1000)"
   ]
  },
  {
   "cell_type": "code",
   "execution_count": 7,
   "metadata": {},
   "outputs": [
    {
     "name": "stdout",
     "output_type": "stream",
     "text": [
      "[15:08:30] [error] ET:UGrid:default: UGrid default: Attempted to access neighbors array of size 100 with index 1000\n",
      "\n"
     ]
    }
   ],
   "source": [
    "g.output(1)"
   ]
  },
  {
   "cell_type": "code",
   "execution_count": 8,
   "metadata": {
    "scrolled": true
   },
   "outputs": [
    {
     "ename": "IndexError",
     "evalue": "Index -1 out of bounds for array with 100 rows!",
     "output_type": "error",
     "traceback": [
      "\u001b[0;31m---------------------------------------------------------------------------\u001b[0m",
      "\u001b[0;31mIndexError\u001b[0m                                Traceback (most recent call last)",
      "\u001b[0;32m<ipython-input-8-851dfe5f02a0>\u001b[0m in \u001b[0;36m<module>\u001b[0;34m\u001b[0m\n\u001b[1;32m      1\u001b[0m \u001b[0;31m# This has similar behavior for the access operators\u001b[0m\u001b[0;34m\u001b[0m\u001b[0;34m\u001b[0m\u001b[0;34m\u001b[0m\u001b[0m\n\u001b[0;32m----> 2\u001b[0;31m \u001b[0mx\u001b[0m \u001b[0;34m=\u001b[0m \u001b[0mg\u001b[0m\u001b[0;34m[\u001b[0m\u001b[0;34m-\u001b[0m\u001b[0;36m1\u001b[0m\u001b[0;34m]\u001b[0m\u001b[0;34m\u001b[0m\u001b[0;34m\u001b[0m\u001b[0m\n\u001b[0m",
      "\u001b[0;31mIndexError\u001b[0m: Index -1 out of bounds for array with 100 rows!"
     ]
    }
   ],
   "source": [
    "# This has similar behavior for the access operators\n",
    "x = g[-1]"
   ]
  },
  {
   "cell_type": "code",
   "execution_count": 9,
   "metadata": {
    "scrolled": true
   },
   "outputs": [
    {
     "name": "stdout",
     "output_type": "stream",
     "text": [
      "[15:08:30] [error] ET:UGrid:default: UGrid default: Attempted to access _ugrid array of size 100 with invalid value -1\n",
      "\n"
     ]
    }
   ],
   "source": [
    "g.output(1)"
   ]
  },
  {
   "cell_type": "code",
   "execution_count": 10,
   "metadata": {},
   "outputs": [
    {
     "ename": "IndexError",
     "evalue": "Index -1 out of bounds for array with 100 points!",
     "output_type": "error",
     "traceback": [
      "\u001b[0;31m---------------------------------------------------------------------------\u001b[0m",
      "\u001b[0;31mIndexError\u001b[0m                                Traceback (most recent call last)",
      "\u001b[0;32m<ipython-input-10-729133363e95>\u001b[0m in \u001b[0;36m<module>\u001b[0;34m\u001b[0m\n\u001b[1;32m      1\u001b[0m \u001b[0;31m# The same thing happens when we try to set elements\u001b[0m\u001b[0;34m\u001b[0m\u001b[0;34m\u001b[0m\u001b[0;34m\u001b[0m\u001b[0m\n\u001b[0;32m----> 2\u001b[0;31m \u001b[0mg\u001b[0m\u001b[0;34m[\u001b[0m\u001b[0;34m-\u001b[0m\u001b[0;36m1\u001b[0m\u001b[0;34m,\u001b[0m\u001b[0;36m4\u001b[0m\u001b[0;34m]\u001b[0m \u001b[0;34m=\u001b[0m \u001b[0;36m0.0\u001b[0m\u001b[0;34m\u001b[0m\u001b[0;34m\u001b[0m\u001b[0m\n\u001b[0m",
      "\u001b[0;31mIndexError\u001b[0m: Index -1 out of bounds for array with 100 points!"
     ]
    }
   ],
   "source": [
    "# The same thing happens when we try to set elements\n",
    "g[-1,4] = 0.0"
   ]
  },
  {
   "cell_type": "code",
   "execution_count": 11,
   "metadata": {},
   "outputs": [
    {
     "name": "stdout",
     "output_type": "stream",
     "text": [
      "[15:08:31] [error] ET:UGrid:default: UGrid default: Attempted to access _ugrid array of size 100 with invalid value -1\n",
      "\n"
     ]
    }
   ],
   "source": [
    "g.output(1)"
   ]
  },
  {
   "cell_type": "code",
   "execution_count": 12,
   "metadata": {
    "scrolled": true
   },
   "outputs": [
    {
     "ename": "IndexError",
     "evalue": "Index 4 out of bounds for array with dimension 2",
     "output_type": "error",
     "traceback": [
      "\u001b[0;31m---------------------------------------------------------------------------\u001b[0m",
      "\u001b[0;31mIndexError\u001b[0m                                Traceback (most recent call last)",
      "\u001b[0;32m<ipython-input-12-c41f6ffd3260>\u001b[0m in \u001b[0;36m<module>\u001b[0;34m\u001b[0m\n\u001b[0;32m----> 1\u001b[0;31m \u001b[0mg\u001b[0m\u001b[0;34m[\u001b[0m\u001b[0;36m1\u001b[0m\u001b[0;34m,\u001b[0m\u001b[0;36m4\u001b[0m\u001b[0;34m]\u001b[0m \u001b[0;34m=\u001b[0m \u001b[0;36m0.0\u001b[0m\u001b[0;34m\u001b[0m\u001b[0;34m\u001b[0m\u001b[0m\n\u001b[0m",
      "\u001b[0;31mIndexError\u001b[0m: Index 4 out of bounds for array with dimension 2"
     ]
    }
   ],
   "source": [
    "g[1,4] = 0.0"
   ]
  },
  {
   "cell_type": "code",
   "execution_count": 13,
   "metadata": {},
   "outputs": [
    {
     "name": "stdout",
     "output_type": "stream",
     "text": [
      "[15:08:31] [error] ET:UGrid:default: UGrid default: Attempted to access _ugrid array of size 100 with invalid value -1\n",
      "[15:08:31] [error] ET:UGrid:default: UGrid default: Attempted to access _ugrid array of dimension 2 with index 4\n",
      "\n"
     ]
    }
   ],
   "source": [
    "g.output(2)"
   ]
  },
  {
   "cell_type": "code",
   "execution_count": 14,
   "metadata": {},
   "outputs": [
    {
     "name": "stdout",
     "output_type": "stream",
     "text": [
      "[15:08:31] [info] ET:UGrid:default: UGrid default: Renaming 'default' to 'new_name'\n",
      "[15:08:31] [warning] ET:UGrid:default: UGrid new_name: New array size 101 does not match array _ugrid of size 100\n",
      "[15:08:31] [info] ET:UGrid:default: UGrid new_name: Setting number of elements _N to 101\n",
      "[15:08:31] [warning] ET:UGrid:default: UGrid new_name: New dimension 3 does not match array _ugrid of dimension 2\n",
      "[15:08:31] [info] ET:UGrid:default: UGrid new_name: Setting dimension _dim to 3\n",
      "\n"
     ]
    }
   ],
   "source": [
    "# It will also log basic information\n",
    "g.set_name(\"new_name\")\n",
    "g.set_N(101)\n",
    "g.set_dim(3)\n",
    "g.output(5)"
   ]
  },
  {
   "cell_type": "code",
   "execution_count": 15,
   "metadata": {},
   "outputs": [
    {
     "name": "stdout",
     "output_type": "stream",
     "text": [
      "[15:08:32] [warning] ET:UGrid:default: UGrid new_name: Attribute _N with value 101 does not match array _ugrid with size 100\n",
      "[15:08:32] [warning] ET:UGrid:default: UGrid new_name: Attribute _dim with value 3 does not match array _ugrid with dimension 2\n",
      "[15:08:32] [error] ET:UGrid:default: UGrid new_name: Attempted to query 10 neighbors for points in array _ugrid with inconsistent  attributes\n",
      "\n"
     ]
    }
   ],
   "source": [
    "# The function query_neighbors will log important information\n",
    "g.query_neighbors(10)\n",
    "g.output(3)"
   ]
  },
  {
   "cell_type": "code",
   "execution_count": 16,
   "metadata": {},
   "outputs": [
    {
     "name": "stdout",
     "output_type": "stream",
     "text": [
      "[15:08:32] [info] ET:UGrid:default: UGrid new_name: Setting number of elements _N to 100\n",
      "[15:08:32] [info] ET:UGrid:default: UGrid new_name: Setting dimension _dim to 2\n",
      "[15:08:32] [info] ET:UGrid:default: UGrid new_name: Querying each point in array _grid of size 100 and dimension 2 for the nearest 10 neighbors\n",
      "\n"
     ]
    }
   ],
   "source": [
    "# Because we change the values of N and dim to be inconsistent\n",
    "# with _ugrid, the query failed.  Let's set them back and try\n",
    "# again\n",
    "g.set_N(100)\n",
    "g.set_dim(2)\n",
    "g.query_neighbors(10)\n",
    "g.output(3)"
   ]
  },
  {
   "cell_type": "code",
   "execution_count": 17,
   "metadata": {},
   "outputs": [],
   "source": [
    "# We can pass loggers from one object to another when\n",
    "# creating them\n",
    "\n",
    "h = UGrid(g.get_logger())"
   ]
  },
  {
   "cell_type": "code",
   "execution_count": 18,
   "metadata": {},
   "outputs": [],
   "source": [
    "# the name of the logger remains the same, except now\n",
    "# the object h will relay its own messages\n",
    "g.set_name(\"Parent\")\n",
    "h.set_name(\"Child\")"
   ]
  },
  {
   "cell_type": "code",
   "execution_count": 19,
   "metadata": {},
   "outputs": [
    {
     "name": "stdout",
     "output_type": "stream",
     "text": [
      "[15:08:32] [trace] ET:UGrid:default: Unstructured Grid 'default' created at location 0x559dd73f9cb0\n",
      "[15:08:32] [info] ET:UGrid:default: Logger passed to Unstructured Grid 'default'\n",
      "[15:08:32] [info] ET:UGrid:default: UGrid new_name: Renaming 'new_name' to 'Parent'\n",
      "[15:08:32] [info] ET:UGrid:default: UGrid default: Renaming 'default' to 'Child'\n",
      "\n"
     ]
    }
   ],
   "source": [
    "h.output(4)"
   ]
  },
  {
   "cell_type": "code",
   "execution_count": 20,
   "metadata": {},
   "outputs": [],
   "source": [
    "# The same is true accross objects of different types\n",
    "sf = ScalarField(g,g.get_logger())\n",
    "app = Interpolator(sf.get_logger())"
   ]
  },
  {
   "cell_type": "code",
   "execution_count": 21,
   "metadata": {},
   "outputs": [
    {
     "name": "stdout",
     "output_type": "stream",
     "text": [
      "[15:08:29] [trace] ET:UGrid:default: Unstructured Grid 'default' created at location 0x559dd677fe20\n",
      "[15:08:30] [info] ET:UGrid:default: UGrid default: Setting _ugrid to array of size 100 with dimension 2\n",
      "[15:08:30] [info] ET:UGrid:default: UGrid default: Querying each point in array _grid of size 100 and dimension 2 for the nearest 3 neighbors\n",
      "[15:08:30] [error] ET:UGrid:default: UGrid default: Attempted to access neighbors array of size 100 with index 1000\n",
      "[15:08:30] [error] ET:UGrid:default: UGrid default: Attempted to access _ugrid array of size 100 with invalid value -1\n",
      "[15:08:31] [error] ET:UGrid:default: UGrid default: Attempted to access _ugrid array of size 100 with invalid value -1\n",
      "[15:08:31] [error] ET:UGrid:default: UGrid default: Attempted to access _ugrid array of dimension 2 with index 4\n",
      "[15:08:31] [info] ET:UGrid:default: UGrid default: Renaming 'default' to 'new_name'\n",
      "[15:08:31] [warning] ET:UGrid:default: UGrid new_name: New array size 101 does not match array _ugrid of size 100\n",
      "[15:08:31] [info] ET:UGrid:default: UGrid new_name: Setting number of elements _N to 101\n",
      "[15:08:31] [warning] ET:UGrid:default: UGrid new_name: New dimension 3 does not match array _ugrid of dimension 2\n",
      "[15:08:31] [info] ET:UGrid:default: UGrid new_name: Setting dimension _dim to 3\n",
      "[15:08:32] [warning] ET:UGrid:default: UGrid new_name: Attribute _N with value 101 does not match array _ugrid with size 100\n",
      "[15:08:32] [warning] ET:UGrid:default: UGrid new_name: Attribute _dim with value 3 does not match array _ugrid with dimension 2\n",
      "[15:08:32] [error] ET:UGrid:default: UGrid new_name: Attempted to query 10 neighbors for points in array _ugrid with inconsistent  attributes\n",
      "[15:08:32] [info] ET:UGrid:default: UGrid new_name: Setting number of elements _N to 100\n",
      "[15:08:32] [info] ET:UGrid:default: UGrid new_name: Setting dimension _dim to 2\n",
      "[15:08:32] [info] ET:UGrid:default: UGrid new_name: Querying each point in array _grid of size 100 and dimension 2 for the nearest 10 neighbors\n",
      "[15:08:32] [trace] ET:UGrid:default: Unstructured Grid 'default' created at location 0x559dd73f9cb0\n",
      "[15:08:32] [info] ET:UGrid:default: Logger passed to Unstructured Grid 'default'\n",
      "[15:08:32] [info] ET:UGrid:default: UGrid new_name: Renaming 'new_name' to 'Parent'\n",
      "[15:08:32] [info] ET:UGrid:default: UGrid default: Renaming 'default' to 'Child'\n",
      "[15:08:33] [trace] ET:UGrid:default: Scalar Field 'default' created at location 0x559dd6985cd0\n",
      "[15:08:33] [info] ET:UGrid:default: Logger passed to Scalar Field 'default'\n",
      "[15:08:33] [trace] ET:UGrid:default: Interpolator 'default' created at location 0x559dd6d54190\n",
      "[15:08:33] [info] ET:UGrid:default: Logger passed to Interpolator 'default'\n",
      "\n"
     ]
    }
   ],
   "source": [
    "app.output()"
   ]
  },
  {
   "cell_type": "code",
   "execution_count": null,
   "metadata": {},
   "outputs": [],
   "source": []
  },
  {
   "cell_type": "code",
   "execution_count": null,
   "metadata": {},
   "outputs": [],
   "source": []
  }
 ],
 "metadata": {
  "kernelspec": {
   "display_name": "Python 3",
   "language": "python",
   "name": "python3"
  },
  "language_info": {
   "codemirror_mode": {
    "name": "ipython",
    "version": 3
   },
   "file_extension": ".py",
   "mimetype": "text/x-python",
   "name": "python",
   "nbconvert_exporter": "python",
   "pygments_lexer": "ipython3",
   "version": "3.7.6"
  }
 },
 "nbformat": 4,
 "nbformat_minor": 4
}

{
 "cells": [
  {
   "cell_type": "markdown",
   "metadata": {},
   "source": [
    "# The Heat Equation"
   ]
  },
  {
   "cell_type": "markdown",
   "metadata": {},
   "source": [
    "The one dimensional heat equation is the following,\n",
    "\n",
    "\\begin{equation}\n",
    "\\partial_tu(x,t) = \\alpha \\partial^2_x u(x,t),\n",
    "\\end{equation}\n",
    "\n",
    "where $\\alpha$ is a constant."
   ]
  },
  {
   "cell_type": "code",
   "execution_count": 2,
   "metadata": {},
   "outputs": [],
   "source": [
    "%matplotlib notebook\n",
    "# import necessary packages\n",
    "import numpy as np\n",
    "from ipywidgets import *\n",
    "import matplotlib.pyplot as plt\n",
    "# we'll need Matrix, UGrid, and Approximator\n",
    "from etraj.etraj import Vector, Matrix, UGrid, Approximator, ScalarField, heatEquation\n",
    "import etraj.etraj as et"
   ]
  },
  {
   "cell_type": "code",
   "execution_count": 5,
   "metadata": {},
   "outputs": [
    {
     "name": "stdout",
     "output_type": "stream",
     "text": [
      "<etraj.etraj.UGrid object at 0x7f4bce6c8fb0>\n"
     ]
    }
   ],
   "source": [
    "# create the microstates\n",
    "N = 1000\n",
    "left = 0.0\n",
    "right = 10.0\n",
    "x = np.random.uniform(left,right,N)\n",
    "\n",
    "# create the grid\n",
    "g = UGrid(x)\n",
    "\n",
    "print(g)"
   ]
  },
  {
   "cell_type": "code",
   "execution_count": null,
   "metadata": {},
   "outputs": [],
   "source": []
  }
 ],
 "metadata": {
  "kernelspec": {
   "display_name": "Python 3",
   "language": "python",
   "name": "python3"
  },
  "language_info": {
   "codemirror_mode": {
    "name": "ipython",
    "version": 3
   },
   "file_extension": ".py",
   "mimetype": "text/x-python",
   "name": "python",
   "nbconvert_exporter": "python",
   "pygments_lexer": "ipython3",
   "version": "3.7.6"
  }
 },
 "nbformat": 4,
 "nbformat_minor": 4
}

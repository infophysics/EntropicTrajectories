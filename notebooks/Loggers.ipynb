{
 "cells": [
  {
   "cell_type": "markdown",
   "metadata": {},
   "source": [
    "#  Loggers"
   ]
  },
  {
   "cell_type": "code",
   "execution_count": 1,
   "metadata": {},
   "outputs": [],
   "source": [
    "# needed packages\n",
    "import numpy as np\n",
    "import matplotlib.pyplot as plt\n",
    "\n",
    "# import various classes\n",
    "from etraj.etraj import Vector, Matrix, UGrid, Approximator, ScalarField, DynamicalSystem"
   ]
  },
  {
   "cell_type": "code",
   "execution_count": 8,
   "metadata": {},
   "outputs": [],
   "source": [
    "# When creating one of the main classes, i.e. UGrid, Approximator, ScalarField, etc.,\n",
    "# a logger is automatically generated from the constructor.\n",
    "g = UGrid()"
   ]
  },
  {
   "cell_type": "code",
   "execution_count": 13,
   "metadata": {},
   "outputs": [
    {
     "name": "stdout",
     "output_type": "stream",
     "text": [
      "[22:34:46] [trace] ET:UGrid:default_3: Unstructured Grid 'default' created at location 0x556087ed9c50\n",
      "[22:34:46] [trace] ET:UGrid:default_2: Unstructured Grid 'default' destroyed at location 0x5560873a66d0\n",
      "\n"
     ]
    }
   ],
   "source": [
    "# The logger will be named \"object_default\" by default when\n",
    "# no name is given to UGrid and where \"object\" is the type of\n",
    "# object that is creating the logger. \n",
    "# The output of the logger is automatically updated in a file \n",
    "# \".log/object_default.txt\".\n",
    "\n",
    "# to get the last line that was issued to the logger, type the following\n",
    "last = g.get_logger().get_output(3)\n",
    "print(last)"
   ]
  },
  {
   "cell_type": "code",
   "execution_count": 14,
   "metadata": {},
   "outputs": [],
   "source": [
    "del g"
   ]
  },
  {
   "cell_type": "code",
   "execution_count": null,
   "metadata": {},
   "outputs": [],
   "source": []
  }
 ],
 "metadata": {
  "kernelspec": {
   "display_name": "Python 3",
   "language": "python",
   "name": "python3"
  },
  "language_info": {
   "codemirror_mode": {
    "name": "ipython",
    "version": 3
   },
   "file_extension": ".py",
   "mimetype": "text/x-python",
   "name": "python",
   "nbconvert_exporter": "python",
   "pygments_lexer": "ipython3",
   "version": "3.7.6"
  }
 },
 "nbformat": 4,
 "nbformat_minor": 4
}

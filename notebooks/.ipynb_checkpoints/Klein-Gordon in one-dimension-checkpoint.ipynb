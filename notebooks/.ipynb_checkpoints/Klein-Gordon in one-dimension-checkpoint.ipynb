{
 "cells": [
  {
   "cell_type": "markdown",
   "metadata": {},
   "source": [
    "# Scalar Field examples"
   ]
  },
  {
   "cell_type": "markdown",
   "metadata": {},
   "source": [
    "Let's take a look at an inherited version of ScalarField which implements a one-dimensional Klein-Gordon field.  The Klein-Gordon field in one dimension has the following differential equation,\n",
    "\n",
    "\\begin{equation}\n",
    "\\partial^2\\phi(x) - m^2\\phi(x) = 0.\n",
    "\\end{equation}"
   ]
  },
  {
   "cell_type": "code",
   "execution_count": 1,
   "metadata": {},
   "outputs": [],
   "source": [
    "import numpy as np\n",
    "import matplotlib.pyplot as plt\n",
    "# we'll need Matrix, UGrid, and Approximator\n",
    "from etraj.etraj import Vector, Matrix, UGrid, Approximator, ScalarField\n",
    "import etraj.etraj as et"
   ]
  },
  {
   "cell_type": "code",
   "execution_count": 2,
   "metadata": {},
   "outputs": [],
   "source": [
    "# Let's inherit the KG field\n",
    "from etraj.etraj import KleinGordon1D"
   ]
  },
  {
   "cell_type": "code",
   "execution_count": 3,
   "metadata": {},
   "outputs": [
    {
     "name": "stdout",
     "output_type": "stream",
     "text": [
      "++++++++++++++++++++++++++++++++++++++++++++++++++++\n",
      "<etraj.ScalarField ref at 0x564bfb0d9440>\n",
      "---------------------------------------------------\n",
      "<ET::ScalarField<double&> object at 0x7ffd7185fa78>\n",
      "---------------------------------------------------\n",
      "   name: 'KleinGordon1D'\n",
      "    dim: 1\n",
      "      N: 1000\n",
      "---------------------------------------------------\n",
      "UGrid 'default' at: 0x564bfb72df90,\n",
      "            ref at: 0x564bfb0d94a0\n",
      "Approximator at: 0x564bfb213b20,\n",
      "         ref at: 0x564bfb0d94b0\n",
      "Logger at: 0x564bfb72df90,\n",
      "   ref at: 0x564bfb0d94c0\n",
      "++++++++++++++++++++++++++++++++++++++++++++++++++++\n"
     ]
    }
   ],
   "source": [
    "# Constructor with a UGrid\n",
    "# create a uniformly random one-dimensional grid\n",
    "# between -5 and 5 with N = 10000 points.\n",
    "N = 1000\n",
    "x = np.random.uniform(-2*np.pi,2*np.pi,N)\n",
    "\n",
    "# next, create the grid of microstates for this \n",
    "# set of points.\n",
    "g = UGrid(x)\n",
    "\n",
    "# set the mass of the field to some value\n",
    "mass = 10.0\n",
    "\n",
    "# call the constructor\n",
    "#    KleinGordon1D(grid,mass)\n",
    "KG = KleinGordon1D(g,10.0)\n",
    "print(KG)"
   ]
  },
  {
   "cell_type": "code",
   "execution_count": null,
   "metadata": {},
   "outputs": [],
   "source": []
  }
 ],
 "metadata": {
  "kernelspec": {
   "display_name": "Python 3",
   "language": "python",
   "name": "python3"
  },
  "language_info": {
   "codemirror_mode": {
    "name": "ipython",
    "version": 3
   },
   "file_extension": ".py",
   "mimetype": "text/x-python",
   "name": "python",
   "nbconvert_exporter": "python",
   "pygments_lexer": "ipython3",
   "version": "3.7.6"
  }
 },
 "nbformat": 4,
 "nbformat_minor": 4
}

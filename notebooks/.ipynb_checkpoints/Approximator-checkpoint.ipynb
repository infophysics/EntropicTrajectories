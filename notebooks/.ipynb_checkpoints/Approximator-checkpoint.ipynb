{
 "cells": [
  {
   "cell_type": "markdown",
   "metadata": {},
   "source": [
    "# Interpolator\n"
   ]
  },
  {
   "cell_type": "code",
   "execution_count": 1,
   "metadata": {},
   "outputs": [],
   "source": [
    "# Let's examine the various features of the Interpolator class\n",
    "# needed packages\n",
    "import numpy as np\n",
    "import matplotlib.pyplot as plt\n",
    "\n",
    "# import various classes\n",
    "from etraj.etraj import Vector, Matrix, UGrid, Interpolator, ScalarField, DynamicalSystem\n",
    "from etraj.etraj import InterpolatorType"
   ]
  },
  {
   "cell_type": "code",
   "execution_count": 2,
   "metadata": {},
   "outputs": [
    {
     "name": "stdout",
     "output_type": "stream",
     "text": [
      "MLS 0\n",
      "RBF 1\n"
     ]
    }
   ],
   "source": [
    "# There are several different types of approximation schemes\n",
    "# which are enumerated in the approx_type enum,\n",
    "mls = InterpolatorType(0)\n",
    "print(mls.name,int(mls))\n",
    "rbf = InterpolatorType(1)\n",
    "print(rbf.name,int(rbf))"
   ]
  },
  {
   "cell_type": "code",
   "execution_count": 3,
   "metadata": {},
   "outputs": [],
   "source": [
    "# For MLS there are various LAPACK drivers one can use,\n",
    "from etraj.etraj import LSDriver\n",
    "# There are four main types\n",
    "xgels = LSDriver.xGELS\n",
    "xgelsy = LSDriver.xGELSY\n",
    "xgelsd = LSDriver.xGELSD\n",
    "xgelss = LSDriver.xGELSS"
   ]
  },
  {
   "cell_type": "code",
   "execution_count": 4,
   "metadata": {},
   "outputs": [
    {
     "name": "stdout",
     "output_type": "stream",
     "text": [
      "\n",
      "Interpolator type: Moving least squares\n",
      "Least squares driver type: xGELSY\n",
      "Interpolator parameters - k = 3\n",
      "                          n = 3\n"
     ]
    }
   ],
   "source": [
    "# Given an Interpolator, we can switch the various LSDrivers \n",
    "# operating under the hood of the MLS scheme\n",
    "app = Interpolator()\n",
    "app.set_approx_type(\"MLS\")\n",
    "app.set_lsdriver(\"xGELSY\")\n",
    "print(app)"
   ]
  },
  {
   "cell_type": "code",
   "execution_count": 5,
   "metadata": {},
   "outputs": [
    {
     "name": "stdout",
     "output_type": "stream",
     "text": [
      "\n",
      "Interpolator type: Moving least squares\n",
      "Least squares driver type: xGELSY\n",
      "Interpolator parameters - k = 10\n",
      "                          n = 5\n"
     ]
    }
   ],
   "source": [
    "# Each approximation scheme has a set of associated parameters\n",
    "# such as 'k', the number of nearest neighbors to use,\n",
    "# or in the case of MLS, 'n', the power of the monomial expansion.\n",
    "# We can adjust the parameters by calling\n",
    "app.set_k(10)\n",
    "app.set_n(5)\n",
    "print(app)"
   ]
  },
  {
   "cell_type": "code",
   "execution_count": 6,
   "metadata": {},
   "outputs": [
    {
     "name": "stdout",
     "output_type": "stream",
     "text": [
      "[18:57:59] [trace] ET:Interpolator:default: Interpolator 'default' created at location 0x5609e65ef900\n",
      "[18:57:59] [info] ET:Interpolator:default: Interpolator default: InterpolatorType set to MLS\n",
      "[18:57:59] [info] ET:Interpolator:default: Interpolator default: LSDriver set to xGELSY\n",
      "[18:57:59] [info] ET:Interpolator:default: Interpolator default: k set to 10\n",
      "[18:57:59] [info] ET:Interpolator:default: Interpolator default: n set to 5\n",
      "\n"
     ]
    }
   ],
   "source": [
    "app.output()"
   ]
  },
  {
   "cell_type": "code",
   "execution_count": 7,
   "metadata": {},
   "outputs": [],
   "source": [
    "# Attempts to set the InterpolatorType to something other than\n",
    "# what is allowed will result in an error\n",
    "app.set_approx_type(\"MyPrecious\")\n",
    "app.set_lsdriver(\"MeHatesIt\")"
   ]
  },
  {
   "cell_type": "code",
   "execution_count": 8,
   "metadata": {},
   "outputs": [
    {
     "name": "stdout",
     "output_type": "stream",
     "text": [
      "[18:58:01] [error] ET:Interpolator:default: Interpolator default: Attempted to set InterpolatorType to MyPrecious which is not a valid type\n",
      "\n"
     ]
    }
   ],
   "source": [
    "app.output(2)"
   ]
  },
  {
   "cell_type": "code",
   "execution_count": null,
   "metadata": {},
   "outputs": [],
   "source": []
  }
 ],
 "metadata": {
  "kernelspec": {
   "display_name": "Python 3",
   "language": "python",
   "name": "python3"
  },
  "language_info": {
   "codemirror_mode": {
    "name": "ipython",
    "version": 3
   },
   "file_extension": ".py",
   "mimetype": "text/x-python",
   "name": "python",
   "nbconvert_exporter": "python",
   "pygments_lexer": "ipython3",
   "version": "3.7.6"
  }
 },
 "nbformat": 4,
 "nbformat_minor": 4
}

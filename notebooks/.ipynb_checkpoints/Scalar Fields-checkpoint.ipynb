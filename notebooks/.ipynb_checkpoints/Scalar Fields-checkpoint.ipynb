{
 "cells": [
  {
   "cell_type": "markdown",
   "metadata": {},
   "source": [
    "# Scalar Fields"
   ]
  },
  {
   "cell_type": "code",
   "execution_count": 4,
   "metadata": {},
   "outputs": [],
   "source": [
    "import numpy as np\n",
    "import matplotlib.pyplot as plt\n",
    "# we'll need Matrix, UGrid, and Approximator\n",
    "from etraj.etraj import Vector, Matrix, UGrid, Approximator, ScalarField\n",
    "import etraj.etraj as et"
   ]
  },
  {
   "cell_type": "code",
   "execution_count": 5,
   "metadata": {},
   "outputs": [],
   "source": [
    "# create a random one-dimensional grid\n",
    "# between -pi and pi.\n",
    "N = 10000\n",
    "x = np.random.uniform(-5,5,N)\n",
    "\n",
    "g = UGrid(x)"
   ]
  },
  {
   "cell_type": "code",
   "execution_count": 7,
   "metadata": {},
   "outputs": [],
   "source": [
    "# generate the function values for f(x) = ax + b\n",
    "a = 1.0\n",
    "b = 2.0\n",
    "f = a*x + b"
   ]
  },
  {
   "cell_type": "code",
   "execution_count": 8,
   "metadata": {},
   "outputs": [],
   "source": [
    "sfield = ScalarField(g,f,g.get_logger())"
   ]
  },
  {
   "cell_type": "code",
   "execution_count": 9,
   "metadata": {},
   "outputs": [],
   "source": [
    "k = 6\n",
    "sfield.get_approximator().set_k(k)\n",
    "der_sfield = sfield.derivative(0,1)"
   ]
  },
  {
   "cell_type": "code",
   "execution_count": 10,
   "metadata": {},
   "outputs": [
    {
     "data": {
      "image/png": "[encoded data removed]",
      "text/plain": [
       "<Figure size 864x576 with 1 Axes>"
      ]
     },
     "metadata": {
      "needs_background": "light"
     },
     "output_type": "display_data"
    }
   ],
   "source": [
    "fig, axs = plt.subplots(figsize=(12,8))\n",
    "axs.scatter(x,f,color='k',label='f(x) = ax + b')\n",
    "axs.scatter(x,der_sfield,color='r',label=r'$\\approx df/dx$')\n",
    "axs.set_xlabel(\"x\")\n",
    "axs.set_ylabel(\"f(x)\")\n",
    "axs.set_title(\"f(x) vs. x\")\n",
    "plt.legend()\n",
    "plt.show()"
   ]
  },
  {
   "cell_type": "code",
   "execution_count": 12,
   "metadata": {},
   "outputs": [],
   "source": [
    "# Let's create another scalar field\n",
    "f2 = np.asarray([5.0 for i in range(len(x))])\n",
    "sfield2 = ScalarField(g,f2,g.get_logger())"
   ]
  },
  {
   "cell_type": "code",
   "execution_count": 13,
   "metadata": {},
   "outputs": [],
   "source": [
    "der_sfield2 = sfield2.derivative(0,1)"
   ]
  },
  {
   "cell_type": "code",
   "execution_count": null,
   "metadata": {},
   "outputs": [],
   "source": [
    "fig, axs = plt.subplots(figsize=(12,8))\n",
    "axs.scatter(x,f,color='k',label='f(x) = ax + b')\n",
    "axs.scatter(x,der_sfield,color='r',label=r'$\\approx df/dx$')\n",
    "axs.scatter(x,f2,color='g',label='f(x) = 5.0')\n",
    "axs.scatter(x,der_sfield2,color='y',label=r'$\\approx df2/dx$')\n",
    "axs.set_xlabel(\"x\")\n",
    "axs.set_ylabel(\"f(x)\")\n",
    "axs.set_title(\"f(x) vs. x\")\n",
    "plt.legend()\n",
    "plt.show()"
   ]
  }
 ],
 "metadata": {
  "kernelspec": {
   "display_name": "Python 3",
   "language": "python",
   "name": "python3"
  },
  "language_info": {
   "codemirror_mode": {
    "name": "ipython",
    "version": 3
   },
   "file_extension": ".py",
   "mimetype": "text/x-python",
   "name": "python",
   "nbconvert_exporter": "python",
   "pygments_lexer": "ipython3",
   "version": "3.7.6"
  }
 },
 "nbformat": 4,
 "nbformat_minor": 4
}

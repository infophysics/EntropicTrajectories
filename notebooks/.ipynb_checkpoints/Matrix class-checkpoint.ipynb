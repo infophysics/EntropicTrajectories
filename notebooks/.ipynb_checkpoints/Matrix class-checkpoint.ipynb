{
 "cells": [
  {
   "cell_type": "markdown",
   "metadata": {},
   "source": [
    "# Matrix class"
   ]
  },
  {
   "cell_type": "markdown",
   "metadata": {},
   "source": [
    "The Entropic Trajectories framework implements a **Matrix class** which wraps several methods from BLAS and LAPACK.  The class can be used outside of the ET framework as a basic linear algebra package.  We will discuss some of its features in this notebook."
   ]
  },
  {
   "cell_type": "code",
   "execution_count": 2,
   "metadata": {},
   "outputs": [],
   "source": [
    "# To use Matrix simply import it from the main library\n",
    "from etraj.etraj import Vector, Matrix"
   ]
  },
  {
   "cell_type": "markdown",
   "metadata": {},
   "source": [
    "## Constructors"
   ]
  },
  {
   "cell_type": "markdown",
   "metadata": {},
   "source": [
    "There are various levels of constructors that can be called to generate a Matrix object.  The default constructor creates an empty matrix whose dimension $(m \\times n)$ is set to $(0,0)$ and whose name is set to an empty string \" \"."
   ]
  },
  {
   "cell_type": "code",
   "execution_count": 3,
   "metadata": {},
   "outputs": [],
   "source": [
    "# The default constructor creates an empty matrix\n",
    "a = Matrix()"
   ]
  },
  {
   "cell_type": "markdown",
   "metadata": {},
   "source": [
    "To get some basic information about a Matrix, one can call the print function on it,"
   ]
  },
  {
   "cell_type": "code",
   "execution_count": 4,
   "metadata": {
    "scrolled": true
   },
   "outputs": [
    {
     "name": "stdout",
     "output_type": "stream",
     "text": [
      "dim: (0x0), type: double&\n",
      "[  empty  ]\n"
     ]
    }
   ],
   "source": [
    "# The__repr__ method is overloaded with a printing function\n",
    "print(a)"
   ]
  },
  {
   "cell_type": "markdown",
   "metadata": {},
   "source": [
    "There are a variety of other constructors one can call based on the attributes of the Matrix that one wishes to set at initialization.  These include,\n",
    " - (name) - A string describing the matrix\n",
    " - (m)    - The row and column size for a square matrix\n",
    " - (m,n)  - The row and column for a non-square matrix\n",
    " - (init)                                    - An initial value to set all the matrix elements to\n",
    " - ($[a_{11},a_{12},\\dots,a_{mn}]$)                - A flattened row-order array for an $(m \\times n)$-matrix\n",
    " - ($[[a_{11},\\dots,a_{1n}],[a_{m1},\\dots,a_{mn}]]$) - A two-dimensional array containing the elements of the matrix\n",
    " \n",
    "The following demonstrates the use of the various constructors,"
   ]
  },
  {
   "cell_type": "code",
   "execution_count": 5,
   "metadata": {},
   "outputs": [
    {
     "name": "stdout",
     "output_type": "stream",
     "text": [
      "dim: (0x0), type: double&\n",
      "[  empty  ]\n",
      "dim: (4x4), type: double&\n",
      "[  0.000e+00   0.000e+00   0.000e+00   0.000e+00\n",
      "   0.000e+00   0.000e+00   0.000e+00   0.000e+00\n",
      "   0.000e+00   0.000e+00   0.000e+00   0.000e+00\n",
      "   0.000e+00   0.000e+00   0.000e+00   0.000e+00  ]\n",
      "dim: (2x2), type: double&, name: 'm_1c'\n",
      "[  0.000e+00   0.000e+00\n",
      "   0.000e+00   0.000e+00  ]\n",
      "dim: (2x3), type: double&\n",
      "[  0.000e+00   0.000e+00   0.000e+00\n",
      "   0.000e+00   0.000e+00   0.000e+00  ]\n",
      "dim: (3x2), type: double&, name: 'm_1e'\n",
      "[  0.000e+00   0.000e+00\n",
      "   0.000e+00   0.000e+00\n",
      "   0.000e+00   0.000e+00  ]\n",
      "dim: (4x2), type: double&\n",
      "[  8.100e+00   8.100e+00\n",
      "   8.100e+00   8.100e+00\n",
      "   8.100e+00   8.100e+00\n",
      "   8.100e+00   8.100e+00  ]\n",
      "dim: (2x6), type: double&, name: 'm_1g'\n",
      "[  1.370e+00   1.370e+00   1.370e+00   1.370e+00   1.370e+00   1.370e+00\n",
      "   1.370e+00   1.370e+00   1.370e+00   1.370e+00   1.370e+00   1.370e+00  ]\n",
      "dim: (2x2), type: double&\n",
      "[  1.000e+00   2.000e+00\n",
      "   3.000e+00   4.000e+00  ]\n",
      "dim: (3x3), type: double&, name: 'm_1i'\n",
      "[  9.000e+00   8.000e+00   7.000e+00\n",
      "   6.000e+00   5.000e+00   4.000e+00\n",
      "   3.000e+00   2.000e+00   1.000e+00  ]\n",
      "dim: (3x2), type: double&\n",
      "[  1.000e+00   2.000e+00\n",
      "   3.000e+00   4.000e+00\n",
      "   5.000e+00   6.000e+00  ]\n",
      "dim: (2x3), type: double&, name: 'm_1k'\n",
      "[  8.000e+00   7.000e+00   6.000e+00\n",
      "   5.000e+00   4.000e+00   3.000e+00  ]\n",
      "dim: (2x2), type: double&\n",
      "[  1.000e+00   2.000e+00\n",
      "   3.000e+00   4.000e+00  ]\n",
      "dim: (2x3), type: double&, name: 'm_1m'\n",
      "[  1.000e+00   2.000e+00   3.000e+00\n",
      "   4.000e+00   5.000e+00   6.000e+00  ]\n"
     ]
    }
   ],
   "source": [
    "# The following is a list of the basic constructors\n",
    "# available in the Matrix class.\n",
    "\n",
    "# (1a) - Basic Constructor\n",
    "m_1a = Matrix()\n",
    "print(m_1a)\n",
    "\n",
    "# (1b) - (m x m) Constructor with m\n",
    "m_1b = Matrix(4)\n",
    "print(m_1b)\n",
    "\n",
    "# (1c) - (m x m) Constructor with m and name\n",
    "m_1c = Matrix('m_1c',2)\n",
    "print(m_1c)\n",
    "\n",
    "# (1d) - (m x n) Constructor with m and n\n",
    "m_1d = Matrix(2,3)\n",
    "print(m_1d)\n",
    "\n",
    "# (1e) - (m x n) Constructor with name and m, n\n",
    "m_1e = Matrix('m_1e',3,2)\n",
    "print(m_1e)\n",
    "\n",
    "# (1f) - (m x n) Constructor with m,n and initial value\n",
    "m_1f = Matrix(4,2,8.1)\n",
    "print(m_1f)\n",
    "\n",
    "# (1g) - (m x n) Constructor with name,m,n and initial value\n",
    "m_1g = Matrix('m_1g',2,6,1.37)\n",
    "print(m_1g)\n",
    "\n",
    "# (1h) - (m x m) Constructor with m and flattened vector\n",
    "m_1h = Matrix(2,[1,2,3,4])\n",
    "print(m_1h)\n",
    "\n",
    "# (1i) - (m x m) Constructor with name,m and flattened vector\n",
    "m_1i = Matrix('m_1i',3,[9,8,7,6,5,4,3,2,1])\n",
    "print(m_1i)\n",
    "\n",
    "# (1j) - (m x n) Constructor with m,n and flattened vector\n",
    "m_1j = Matrix(3,2,[1,2,3,4,5,6])\n",
    "print(m_1j)\n",
    "\n",
    "# (1k) - (m x n) Constructor with name,m,n and flattened vector\n",
    "m_1k = Matrix('m_1k',2,3,[8,7,6,5,4,3])\n",
    "print(m_1k)\n",
    "\n",
    "# (1l) - (m x n) Constructor with 2d array\n",
    "m_1l = Matrix([[1,2],[3,4]])\n",
    "print(m_1l)\n",
    "\n",
    "#(1m) - (m x n) Constructor with name and 2d array\n",
    "m_1m = Matrix('m_1m',[[1,2,3],[4,5,6]])\n",
    "print(m_1m)"
   ]
  },
  {
   "cell_type": "markdown",
   "metadata": {},
   "source": [
    "## Matrix Attributes"
   ]
  },
  {
   "cell_type": "code",
   "execution_count": 8,
   "metadata": {},
   "outputs": [],
   "source": []
  },
  {
   "cell_type": "markdown",
   "metadata": {},
   "source": [
    "## Matrix Algebra"
   ]
  },
  {
   "cell_type": "code",
   "execution_count": null,
   "metadata": {},
   "outputs": [],
   "source": []
  },
  {
   "cell_type": "markdown",
   "metadata": {},
   "source": [
    "## Numpy arrays"
   ]
  },
  {
   "cell_type": "code",
   "execution_count": null,
   "metadata": {},
   "outputs": [],
   "source": []
  },
  {
   "cell_type": "markdown",
   "metadata": {},
   "source": [
    "## Various methods"
   ]
  },
  {
   "cell_type": "code",
   "execution_count": null,
   "metadata": {},
   "outputs": [],
   "source": []
  },
  {
   "cell_type": "markdown",
   "metadata": {},
   "source": [
    "## LAPACK routines"
   ]
  },
  {
   "cell_type": "code",
   "execution_count": null,
   "metadata": {},
   "outputs": [],
   "source": []
  },
  {
   "cell_type": "markdown",
   "metadata": {},
   "source": [
    "## Linear least squares"
   ]
  },
  {
   "cell_type": "code",
   "execution_count": null,
   "metadata": {},
   "outputs": [],
   "source": []
  },
  {
   "cell_type": "markdown",
   "metadata": {},
   "source": [
    "## LU decomposition"
   ]
  },
  {
   "cell_type": "code",
   "execution_count": null,
   "metadata": {},
   "outputs": [],
   "source": []
  },
  {
   "cell_type": "markdown",
   "metadata": {},
   "source": [
    "## QR decomposition"
   ]
  },
  {
   "cell_type": "code",
   "execution_count": null,
   "metadata": {},
   "outputs": [],
   "source": []
  },
  {
   "cell_type": "markdown",
   "metadata": {},
   "source": [
    "## SVD decomposition"
   ]
  },
  {
   "cell_type": "code",
   "execution_count": null,
   "metadata": {},
   "outputs": [],
   "source": []
  }
 ],
 "metadata": {
  "kernelspec": {
   "display_name": "Python 3",
   "language": "python",
   "name": "python3"
  },
  "language_info": {
   "codemirror_mode": {
    "name": "ipython",
    "version": 3
   },
   "file_extension": ".py",
   "mimetype": "text/x-python",
   "name": "python",
   "nbconvert_exporter": "python",
   "pygments_lexer": "ipython3",
   "version": "3.7.6"
  }
 },
 "nbformat": 4,
 "nbformat_minor": 4
}
